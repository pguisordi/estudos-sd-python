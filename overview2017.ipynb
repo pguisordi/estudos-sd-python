{
 "cells": [
  {
   "cell_type": "code",
   "execution_count": 1,
   "metadata": {},
   "outputs": [],
   "source": [
    "import pandas as pd\n",
    "import numpy as np\n",
    "import glob\n",
    "import matplotlib.pyplot as plt\n",
    "import seaborn as sns"
   ]
  },
  {
   "cell_type": "markdown",
   "metadata": {},
   "source": [
    "### Análise de Janeiro ###"
   ]
  },
  {
   "cell_type": "code",
   "execution_count": 2,
   "metadata": {},
   "outputs": [
    {
     "name": "stdout",
     "output_type": "stream",
     "text": [
      "['012017ATI']\n"
     ]
    }
   ],
   "source": [
    "xls_01_2017 = pd.ExcelFile('012017ati.xlsx')\n",
    "sheet_01_2017 = xls_01_2017.sheet_names\n",
    "print(sheet_01_2017)"
   ]
  },
  {
   "cell_type": "code",
   "execution_count": 38,
   "metadata": {},
   "outputs": [
    {
     "name": "stdout",
     "output_type": "stream",
     "text": [
      "[124477, 13] ['Exceção', 'Nome completo', 'Cargo Base', 'Cargo em Comissão', 'Remuneração do Mês', 'Demais Elementos da Remuneração', 'Remuneração Bruta', 'Unidade', 'Tp. Log', 'Logadrouro', 'Número', 'Complemento', 'Jornada'] 947075529.27\n"
     ]
    }
   ],
   "source": [
    "jan17 = pd.read_excel(xls_01_2017, dec = ',')\n",
    "jan17['Remuneração Bruta'] = pd.to_numeric(jan17['Remuneração Bruta'], errors = 'coerce')\n",
    "tamanho_1jan17= list(jan17.shape)\n",
    "colunas_1jan17 = dez17.columns.tolist()\n",
    "remuneracao_1jan17 = jan17['Remuneração Bruta'].sum()\n",
    "print(tamanho_1jan17, colunas_1jan17,remuneracao_1jan17)"
   ]
  },
  {
   "cell_type": "markdown",
   "metadata": {},
   "source": [
    "### Análise de Fevereiro ###"
   ]
  },
  {
   "cell_type": "code",
   "execution_count": 4,
   "metadata": {},
   "outputs": [
    {
     "name": "stdout",
     "output_type": "stream",
     "text": [
      "['022017ATI']\n"
     ]
    }
   ],
   "source": [
    "xls_02_2017 = pd.ExcelFile('022017ati.xlsx')\n",
    "sheet_02_2017 = xls_02_2017.sheet_names\n",
    "print(sheet_02_2017)"
   ]
  },
  {
   "cell_type": "code",
   "execution_count": 40,
   "metadata": {},
   "outputs": [
    {
     "name": "stdout",
     "output_type": "stream",
     "text": [
      "[124501, 13] ['Exceção', 'Nome completo', 'Cargo Base', 'Cargo em Comissão', 'Remuneração do Mês', 'Demais Elementos da Remuneração', 'Remuneração Bruta', 'Unidade', 'Tp. Log', 'Logadrouro', 'Número', 'Complemento', 'Jornada'] 947621817.35\n"
     ]
    }
   ],
   "source": [
    "fev17 = pd.read_excel(xls_02_2017)\n",
    "fev17['Remuneração Bruta'] = pd.to_numeric(fev17['Remuneração Bruta'], errors = 'coerce')\n",
    "tamanho_2fev17= list(fev17.shape)\n",
    "colunas_2fev17 = fev17.columns.tolist()\n",
    "remuneracao_2fev17 = fev17['Remuneração Bruta'].sum()\n",
    "print(tamanho_2fev17, colunas_2fev17, remuneracao_2fev17)"
   ]
  },
  {
   "cell_type": "markdown",
   "metadata": {},
   "source": [
    "### Análise de Março ###"
   ]
  },
  {
   "cell_type": "code",
   "execution_count": 6,
   "metadata": {},
   "outputs": [
    {
     "name": "stdout",
     "output_type": "stream",
     "text": [
      "['032017ATI']\n"
     ]
    }
   ],
   "source": [
    "xls_03_2017 = pd.ExcelFile('032017ati.xlsx')\n",
    "sheet_03_2017 = xls_03_2017.sheet_names\n",
    "print(sheet_03_2017)"
   ]
  },
  {
   "cell_type": "code",
   "execution_count": 41,
   "metadata": {},
   "outputs": [
    {
     "name": "stdout",
     "output_type": "stream",
     "text": [
      "[123445, 13] ['Exceção', 'Nome completo', 'Cargo Base', 'Cargo em Comissão', 'Remuneração do Mês', 'Demais Elementos da Remuneração', 'Remuneração Bruta', 'Unidade', 'Tp. Log', 'Logadrouro', 'Número', 'Complemento', 'Jornada'] 793119251.48\n"
     ]
    }
   ],
   "source": [
    "mar17 = pd.read_excel(xls_03_2017)\n",
    "mar17['Remuneração Bruta'] = pd.to_numeric(mar17['Remuneração Bruta'], errors = 'coerce')\n",
    "tamanho_3mar17= list(mar17.shape)\n",
    "colunas_3mar17 = mar17.columns.tolist()\n",
    "remuneracao_3mar17 = mar17['Remuneração Bruta'].sum()\n",
    "print(tamanho_3mar17, colunas_3mar17, remuneracao_3mar17)"
   ]
  },
  {
   "cell_type": "markdown",
   "metadata": {},
   "source": [
    "### Análise de Abril ###"
   ]
  },
  {
   "cell_type": "code",
   "execution_count": 8,
   "metadata": {},
   "outputs": [
    {
     "name": "stdout",
     "output_type": "stream",
     "text": [
      "['042017ATI']\n"
     ]
    }
   ],
   "source": [
    "xls_04_2017 = pd.ExcelFile('042017ati.xlsx')\n",
    "sheet_04_2017 = xls_04_2017.sheet_names\n",
    "print(sheet_04_2017)"
   ]
  },
  {
   "cell_type": "code",
   "execution_count": 42,
   "metadata": {},
   "outputs": [
    {
     "name": "stdout",
     "output_type": "stream",
     "text": [
      "[122913, 13] ['Exceção', 'Nome completo', 'Cargo Base', 'Cargo em Comissão', 'Remuneração do Mês', 'Demais Elementos da Remuneração', 'Remuneração Bruta', 'Unidade', 'Tp. Log', 'Logadrouro', 'Número', 'Complemento', 'Jornada'] 760240124.41\n"
     ]
    }
   ],
   "source": [
    "abr17 = pd.read_excel(xls_04_2017)\n",
    "abr17['Remuneração Bruta'] = pd.to_numeric(abr17['Remuneração Bruta'], errors = 'coerce')\n",
    "tamanho_4abr17= list(abr17.shape)\n",
    "colunas_4abr17 = abr17.columns.tolist()\n",
    "remuneracao_4abr17 = abr17['Remuneração Bruta'].sum()\n",
    "print(tamanho_4abr17, colunas_4abr17, remuneracao_4abr17)"
   ]
  },
  {
   "cell_type": "markdown",
   "metadata": {},
   "source": [
    "### Análise de Maio ###"
   ]
  },
  {
   "cell_type": "code",
   "execution_count": 10,
   "metadata": {},
   "outputs": [
    {
     "name": "stdout",
     "output_type": "stream",
     "text": [
      "['052017ATI']\n"
     ]
    }
   ],
   "source": [
    "xls_05_2017 = pd.ExcelFile('052017ati.xlsx')\n",
    "sheet_05_2017 = xls_05_2017.sheet_names\n",
    "print(sheet_05_2017)"
   ]
  },
  {
   "cell_type": "code",
   "execution_count": 43,
   "metadata": {},
   "outputs": [
    {
     "name": "stdout",
     "output_type": "stream",
     "text": [
      "[122789, 13] ['Exceção', 'Nome completo', 'Cargo Base', 'Cargo em Comissão', 'Remuneração do Mês', 'Demais Elementos da Remuneração', 'Remuneração Bruta', 'Unidade', 'Tp. Log', 'Logadrouro', 'Número', 'Complemento', 'Jornada'] 815123210.4800003\n"
     ]
    }
   ],
   "source": [
    "mai17 = pd.read_excel(xls_05_2017)\n",
    "mai17['Remuneração Bruta'] = pd.to_numeric(mai17['Remuneração Bruta'], errors = 'coerce')\n",
    "tamanho_5mai17= list(mai17.shape)\n",
    "colunas_5mai17 = mai17.columns.tolist()\n",
    "remuneracao_5jan17 = mai17['Remuneração Bruta'].sum()\n",
    "print(tamanho_5mai17, colunas_5mai17, remuneracao_5jan17)"
   ]
  },
  {
   "cell_type": "markdown",
   "metadata": {},
   "source": [
    "### Análise de Junho ###"
   ]
  },
  {
   "cell_type": "code",
   "execution_count": 12,
   "metadata": {},
   "outputs": [
    {
     "name": "stdout",
     "output_type": "stream",
     "text": [
      "['062017ATI']\n"
     ]
    }
   ],
   "source": [
    "xls_06_2017 = pd.ExcelFile('062017ati.xlsx')\n",
    "sheet_06_2017 = xls_06_2017.sheet_names\n",
    "print(sheet_06_2017)"
   ]
  },
  {
   "cell_type": "code",
   "execution_count": 44,
   "metadata": {},
   "outputs": [
    {
     "name": "stdout",
     "output_type": "stream",
     "text": [
      "[122675, 13] ['Exceção', 'Nome completo', 'Cargo Base', 'Cargo em Comissão', 'Remuneração do Mês', 'Demais Elementos da Remuneração', 'Remuneração Bruta', 'Unidade', 'Tp. Log', 'Logadrouro', 'Número', 'Complemento', 'Jornada'] 1042917430.23\n"
     ]
    }
   ],
   "source": [
    "jun17 = pd.read_excel(xls_06_2017)\n",
    "jun17['Remuneração Bruta'] = pd.to_numeric(jun17['Remuneração Bruta'], errors = 'coerce')\n",
    "tamanho_6jun17= list(jun17.shape)\n",
    "colunas_6jun17 = jun17.columns.tolist()\n",
    "remuneracao_6fev17 = jun17['Remuneração Bruta'].sum()\n",
    "print(tamanho_6jun17, colunas_6jun17,remuneracao_6fev17)"
   ]
  },
  {
   "cell_type": "markdown",
   "metadata": {},
   "source": [
    "### Análise de Julho ### "
   ]
  },
  {
   "cell_type": "code",
   "execution_count": 14,
   "metadata": {},
   "outputs": [
    {
     "name": "stdout",
     "output_type": "stream",
     "text": [
      "['072017ATI']\n"
     ]
    }
   ],
   "source": [
    "xls_07_2017 = pd.ExcelFile('072017ati.xlsx')\n",
    "sheet_07_2017 = xls_07_2017.sheet_names\n",
    "print(sheet_07_2017)"
   ]
  },
  {
   "cell_type": "code",
   "execution_count": 45,
   "metadata": {},
   "outputs": [
    {
     "name": "stdout",
     "output_type": "stream",
     "text": [
      "[122677, 13] ['Exceção', 'Nome completo', 'Cargo Base', 'Cargo em Comissão', 'Remuneração do Mês', 'Demais Elementos da Remuneração', 'Remuneração Bruta', 'Unidade', 'Tp. Log', 'Logadrouro', 'Número', 'Complemento', 'Jornada'] 884343724.42\n"
     ]
    }
   ],
   "source": [
    "jul17 = pd.read_excel(xls_07_2017)\n",
    "jul17['Remuneração Bruta'] = pd.to_numeric(jul17['Remuneração Bruta'], errors = 'coerce')\n",
    "tamanho_7jul17= list(jul17.shape)\n",
    "colunas_7jul17 = jul17.columns.tolist()\n",
    "remuneracao_7fev17 = jul17['Remuneração Bruta'].sum()\n",
    "print(tamanho_7jul17, colunas_7jul17,remuneracao_7fev17)"
   ]
  },
  {
   "cell_type": "markdown",
   "metadata": {},
   "source": [
    "### Análise de Agosto ### "
   ]
  },
  {
   "cell_type": "code",
   "execution_count": 16,
   "metadata": {},
   "outputs": [
    {
     "name": "stdout",
     "output_type": "stream",
     "text": [
      "['082017ATI']\n"
     ]
    }
   ],
   "source": [
    "xls_08_2017 = pd.ExcelFile('082017ati.xlsx')\n",
    "sheet_08_2017 = xls_08_2017.sheet_names\n",
    "print(sheet_08_2017)"
   ]
  },
  {
   "cell_type": "code",
   "execution_count": 46,
   "metadata": {},
   "outputs": [
    {
     "name": "stdout",
     "output_type": "stream",
     "text": [
      "[122750, 13] ['Exceção', 'Nome completo', 'Cargo Base', 'Cargo em Comissão', 'Remuneração do Mês', 'Demais Elementos da Remuneração', 'Remuneração Bruta', 'Unidade', 'Tp. Log', 'Logadrouro', 'Número', 'Complemento', 'Jornada'] 861782412.25\n"
     ]
    }
   ],
   "source": [
    "ago17 = pd.read_excel(xls_08_2017)\n",
    "ago17['Remuneração Bruta'] = pd.to_numeric(ago17['Remuneração Bruta'], errors = 'coerce')\n",
    "tamanho_8ago17= list(ago17.shape)\n",
    "colunas_8ago17 = ago17.columns.tolist()\n",
    "remuneracao_8ago17 = ago17['Remuneração Bruta'].sum()\n",
    "print(tamanho_8ago17, colunas_8ago17,remuneracao_8ago17)"
   ]
  },
  {
   "cell_type": "markdown",
   "metadata": {},
   "source": [
    "### Análise de Setembro ###"
   ]
  },
  {
   "cell_type": "code",
   "execution_count": 18,
   "metadata": {},
   "outputs": [
    {
     "name": "stdout",
     "output_type": "stream",
     "text": [
      "['092017ATI']\n"
     ]
    }
   ],
   "source": [
    "xls_09_2017 = pd.ExcelFile('092017ati.xlsx')\n",
    "sheet_09_2017 = xls_09_2017.sheet_names\n",
    "print(sheet_09_2017)"
   ]
  },
  {
   "cell_type": "code",
   "execution_count": 47,
   "metadata": {},
   "outputs": [
    {
     "name": "stdout",
     "output_type": "stream",
     "text": [
      "[121824, 13] ['Exceção', 'Nome completo', 'Cargo Base', 'Cargo em Comissão', 'Remuneração do Mês', 'Demais Elementos da Remuneração', 'Remuneração Bruta', 'Unidade', 'Tp. Log', 'Logadrouro', 'Número', 'Complemento', 'Jornada'] 802009786.5400001\n"
     ]
    }
   ],
   "source": [
    "set17 = pd.read_excel(xls_09_2017)\n",
    "set17['Remuneração Bruta'] = pd.to_numeric(set17['Remuneração Bruta'], errors = 'coerce')\n",
    "tamanho_9set17= list(set17.shape)\n",
    "colunas_9set17 = set17.columns.tolist()\n",
    "remuneracao_9set17 = set17['Remuneração Bruta'].sum()\n",
    "print(tamanho_9set17, colunas_9set17,remuneracao_9set17)"
   ]
  },
  {
   "cell_type": "markdown",
   "metadata": {},
   "source": [
    "### Análise de Outubro ###"
   ]
  },
  {
   "cell_type": "code",
   "execution_count": 20,
   "metadata": {},
   "outputs": [
    {
     "name": "stdout",
     "output_type": "stream",
     "text": [
      "['102017ati']\n"
     ]
    }
   ],
   "source": [
    "xls_10_2017 = pd.ExcelFile('102017ati.xlsx')\n",
    "sheet_10_2017 = xls_10_2017.sheet_names\n",
    "print(sheet_10_2017)"
   ]
  },
  {
   "cell_type": "code",
   "execution_count": 48,
   "metadata": {},
   "outputs": [
    {
     "name": "stdout",
     "output_type": "stream",
     "text": [
      "[121018, 13] ['Exceção', 'Nome completo', 'Cargo Base', 'Cargo em Comissão', 'Remuneração do Mês', 'Demais Elementos da Remuneração', 'Remuneração Bruta', 'Unidade', 'Tp. Log', 'Logadrouro', 'Número', 'Complemento', 'Jornada'] 807586261.58\n"
     ]
    }
   ],
   "source": [
    "out17 = pd.read_excel(xls_10_2017)\n",
    "out17['Remuneração Bruta'] = pd.to_numeric(out17['Remuneração Bruta'], errors = 'coerce')\n",
    "tamanho_10out17= list(out17.shape)\n",
    "colunas_10out17 = out17.columns.tolist()\n",
    "remuneracao_10out17 = out17['Remuneração Bruta'].sum()\n",
    "print(tamanho_10out17, colunas_10out17,remuneracao_10out17)"
   ]
  },
  {
   "cell_type": "markdown",
   "metadata": {},
   "source": [
    "### Análise de Novembro###"
   ]
  },
  {
   "cell_type": "code",
   "execution_count": 22,
   "metadata": {},
   "outputs": [
    {
     "name": "stdout",
     "output_type": "stream",
     "text": [
      "['112017ati']\n"
     ]
    }
   ],
   "source": [
    "xls_11_2017 = pd.ExcelFile('112017ati.xlsx')\n",
    "sheet_11_2017 = xls_11_2017.sheet_names\n",
    "print(sheet_11_2017)"
   ]
  },
  {
   "cell_type": "code",
   "execution_count": 49,
   "metadata": {},
   "outputs": [
    {
     "name": "stdout",
     "output_type": "stream",
     "text": [
      "[121232, 13] ['Exceção', 'Nome completo', 'Cargo Base', 'Cargo em Comissão', 'Remuneração do Mês', 'Demais Elementos da Remuneração', 'Remuneração Bruta', 'Unidade', 'Tp. Log', 'Logadrouro', 'Número', 'Complemento', 'Jornada'] 838787004.4799999\n"
     ]
    }
   ],
   "source": [
    "nov17 = pd.read_excel(xls_11_2017)\n",
    "nov17['Remuneração Bruta'] = pd.to_numeric(nov17['Remuneração Bruta'], errors = 'coerce')\n",
    "remuneracao_11nov17 = nov17['Remuneração Bruta'].sum()\n",
    "tamanho_11nov17= list(nov17.shape)\n",
    "colunas_11nov17 = nov17.columns.tolist()\n",
    "print(tamanho_11nov17, colunas_11nov17,remuneracao_11nov17)"
   ]
  },
  {
   "cell_type": "markdown",
   "metadata": {},
   "source": [
    "### Análise de Dezembro###"
   ]
  },
  {
   "cell_type": "code",
   "execution_count": 24,
   "metadata": {},
   "outputs": [
    {
     "name": "stdout",
     "output_type": "stream",
     "text": [
      "['122017ati']\n"
     ]
    }
   ],
   "source": [
    "xls_12_2017 = pd.ExcelFile('122017ati.xlsx')\n",
    "sheet_12_2017 = xls_12_2017.sheet_names\n",
    "print(sheet_12_2017)"
   ]
  },
  {
   "cell_type": "code",
   "execution_count": 50,
   "metadata": {},
   "outputs": [
    {
     "name": "stdout",
     "output_type": "stream",
     "text": [
      "[121264, 13] ['Exceção', 'Nome completo', 'Cargo Base', 'Cargo em Comissão', 'Remuneração do Mês', 'Demais Elementos da Remuneração', 'Remuneração Bruta', 'Unidade', 'Tp. Log', 'Logadrouro', 'Número', 'Complemento', 'Jornada'] 906768336.78\n"
     ]
    }
   ],
   "source": [
    "dez17 = pd.read_excel(xls_12_2017)\n",
    "dez17['Remuneração Bruta'] = pd.to_numeric(dez17['Remuneração Bruta'], errors = 'coerce')\n",
    "remuneracao_12dez17 = dez17['Remuneração Bruta'].sum() \n",
    "tamanho_12dez17= list(dez17.shape)\n",
    "colunas_12dez17 = dez17.columns.tolist()\n",
    "print(tamanho_12dez17, colunas_12dez17, remuneracao_12dez17)"
   ]
  },
  {
   "cell_type": "markdown",
   "metadata": {},
   "source": [
    "### Análise Anual Dados ###"
   ]
  },
  {
   "cell_type": "code",
   "execution_count": 51,
   "metadata": {},
   "outputs": [],
   "source": [
    "dic_2017 = {'total_funcionarios':[tamanho_1jan17[0],tamanho_2fev17[0],tamanho_3mar17[0],tamanho_4abr17[0],\n",
    "                                  tamanho_5mai17[0],tamanho_6jun17[0],tamanho_7jul17[0],tamanho_8ago17[0],\n",
    "                                  tamanho_9set17[0],tamanho_10out17[0],tamanho_11nov17[0],\n",
    "                                  tamanho_12dez17[0]],\n",
    "           'colunas_nomes':[colunas_1jan17,colunas_2fev17,colunas_3mar17,colunas_4abr17,colunas_5mai17,\n",
    "                      colunas_6jun17,colunas_7jul17,colunas_8ago17,colunas_9set17,colunas_10out17,\n",
    "                      colunas_11nov17, colunas_12dez17],\n",
    "           'pagamento_bruto' : [remuneracao_1jan17,remuneracao_2fev17,remuneracao_3mar17,remuneracao_4abr17,\n",
    "                               remuneracao_5jan17, remuneracao_6fev17,remuneracao_7fev17,remuneracao_8ago17,\n",
    "                               remuneracao_9set17, remuneracao_10out17, remuneracao_11nov17, remuneracao_12dez17]}"
   ]
  },
  {
   "cell_type": "code",
   "execution_count": 52,
   "metadata": {},
   "outputs": [],
   "source": [
    "df_2017 = pd.DataFrame(dic_2017)\n",
    "pd.set_option('display.float_format', '{:.2f}'.format) # ajusta a notação cientifica para float"
   ]
  },
  {
   "cell_type": "code",
   "execution_count": 53,
   "metadata": {},
   "outputs": [],
   "source": [
    "df_2017['mes'] = ['janeiro','fevereiro','março','abril','maio','junho','julho','agosto','setembro','outubro',\n",
    "         'novembro','dezembro']"
   ]
  },
  {
   "cell_type": "code",
   "execution_count": 54,
   "metadata": {},
   "outputs": [
    {
     "data": {
      "text/html": [
       "<div>\n",
       "<style scoped>\n",
       "    .dataframe tbody tr th:only-of-type {\n",
       "        vertical-align: middle;\n",
       "    }\n",
       "\n",
       "    .dataframe tbody tr th {\n",
       "        vertical-align: top;\n",
       "    }\n",
       "\n",
       "    .dataframe thead th {\n",
       "        text-align: right;\n",
       "    }\n",
       "</style>\n",
       "<table border=\"1\" class=\"dataframe\">\n",
       "  <thead>\n",
       "    <tr style=\"text-align: right;\">\n",
       "      <th></th>\n",
       "      <th>total_funcionarios</th>\n",
       "      <th>colunas_nomes</th>\n",
       "      <th>pagamento_bruto</th>\n",
       "      <th>mes</th>\n",
       "    </tr>\n",
       "  </thead>\n",
       "  <tbody>\n",
       "    <tr>\n",
       "      <th>0</th>\n",
       "      <td>124477</td>\n",
       "      <td>[Exceção, Nome completo, Cargo Base, Cargo em ...</td>\n",
       "      <td>947075529.27</td>\n",
       "      <td>janeiro</td>\n",
       "    </tr>\n",
       "    <tr>\n",
       "      <th>1</th>\n",
       "      <td>124501</td>\n",
       "      <td>[Exceção, Nome completo, Cargo Base, Cargo em ...</td>\n",
       "      <td>947621817.35</td>\n",
       "      <td>fevereiro</td>\n",
       "    </tr>\n",
       "    <tr>\n",
       "      <th>2</th>\n",
       "      <td>123445</td>\n",
       "      <td>[Exceção, Nome completo, Cargo Base, Cargo em ...</td>\n",
       "      <td>793119251.48</td>\n",
       "      <td>março</td>\n",
       "    </tr>\n",
       "    <tr>\n",
       "      <th>3</th>\n",
       "      <td>122913</td>\n",
       "      <td>[Exceção, Nome completo, Cargo Base, Cargo em ...</td>\n",
       "      <td>760240124.41</td>\n",
       "      <td>abril</td>\n",
       "    </tr>\n",
       "    <tr>\n",
       "      <th>4</th>\n",
       "      <td>122789</td>\n",
       "      <td>[Exceção, Nome completo, Cargo Base, Cargo em ...</td>\n",
       "      <td>815123210.48</td>\n",
       "      <td>maio</td>\n",
       "    </tr>\n",
       "    <tr>\n",
       "      <th>5</th>\n",
       "      <td>122675</td>\n",
       "      <td>[Exceção, Nome completo, Cargo Base, Cargo em ...</td>\n",
       "      <td>1042917430.23</td>\n",
       "      <td>junho</td>\n",
       "    </tr>\n",
       "    <tr>\n",
       "      <th>6</th>\n",
       "      <td>122677</td>\n",
       "      <td>[Exceção, Nome completo, Cargo Base, Cargo em ...</td>\n",
       "      <td>884343724.42</td>\n",
       "      <td>julho</td>\n",
       "    </tr>\n",
       "    <tr>\n",
       "      <th>7</th>\n",
       "      <td>122750</td>\n",
       "      <td>[Exceção, Nome completo, Cargo Base, Cargo em ...</td>\n",
       "      <td>861782412.25</td>\n",
       "      <td>agosto</td>\n",
       "    </tr>\n",
       "    <tr>\n",
       "      <th>8</th>\n",
       "      <td>121824</td>\n",
       "      <td>[Exceção, Nome completo, Cargo Base, Cargo em ...</td>\n",
       "      <td>802009786.54</td>\n",
       "      <td>setembro</td>\n",
       "    </tr>\n",
       "    <tr>\n",
       "      <th>9</th>\n",
       "      <td>121018</td>\n",
       "      <td>[Exceção, Nome completo, Cargo Base, Cargo em ...</td>\n",
       "      <td>807586261.58</td>\n",
       "      <td>outubro</td>\n",
       "    </tr>\n",
       "    <tr>\n",
       "      <th>10</th>\n",
       "      <td>121232</td>\n",
       "      <td>[Exceção, Nome completo, Cargo Base, Cargo em ...</td>\n",
       "      <td>838787004.48</td>\n",
       "      <td>novembro</td>\n",
       "    </tr>\n",
       "    <tr>\n",
       "      <th>11</th>\n",
       "      <td>121264</td>\n",
       "      <td>[Exceção, Nome completo, Cargo Base, Cargo em ...</td>\n",
       "      <td>906768336.78</td>\n",
       "      <td>dezembro</td>\n",
       "    </tr>\n",
       "  </tbody>\n",
       "</table>\n",
       "</div>"
      ],
      "text/plain": [
       "    total_funcionarios                                      colunas_nomes  \\\n",
       "0               124477  [Exceção, Nome completo, Cargo Base, Cargo em ...   \n",
       "1               124501  [Exceção, Nome completo, Cargo Base, Cargo em ...   \n",
       "2               123445  [Exceção, Nome completo, Cargo Base, Cargo em ...   \n",
       "3               122913  [Exceção, Nome completo, Cargo Base, Cargo em ...   \n",
       "4               122789  [Exceção, Nome completo, Cargo Base, Cargo em ...   \n",
       "5               122675  [Exceção, Nome completo, Cargo Base, Cargo em ...   \n",
       "6               122677  [Exceção, Nome completo, Cargo Base, Cargo em ...   \n",
       "7               122750  [Exceção, Nome completo, Cargo Base, Cargo em ...   \n",
       "8               121824  [Exceção, Nome completo, Cargo Base, Cargo em ...   \n",
       "9               121018  [Exceção, Nome completo, Cargo Base, Cargo em ...   \n",
       "10              121232  [Exceção, Nome completo, Cargo Base, Cargo em ...   \n",
       "11              121264  [Exceção, Nome completo, Cargo Base, Cargo em ...   \n",
       "\n",
       "    pagamento_bruto        mes  \n",
       "0      947075529.27    janeiro  \n",
       "1      947621817.35  fevereiro  \n",
       "2      793119251.48      março  \n",
       "3      760240124.41      abril  \n",
       "4      815123210.48       maio  \n",
       "5     1042917430.23      junho  \n",
       "6      884343724.42      julho  \n",
       "7      861782412.25     agosto  \n",
       "8      802009786.54   setembro  \n",
       "9      807586261.58    outubro  \n",
       "10     838787004.48   novembro  \n",
       "11     906768336.78   dezembro  "
      ]
     },
     "execution_count": 54,
     "metadata": {},
     "output_type": "execute_result"
    }
   ],
   "source": [
    "df_2017.head(12)"
   ]
  },
  {
   "cell_type": "code",
   "execution_count": 55,
   "metadata": {},
   "outputs": [],
   "source": [
    "df_2017['variacao_funcionarios'] = df_2017.total_funcionarios.diff().fillna(0).astype(int)"
   ]
  },
  {
   "cell_type": "code",
   "execution_count": 56,
   "metadata": {},
   "outputs": [
    {
     "data": {
      "text/html": [
       "<div>\n",
       "<style scoped>\n",
       "    .dataframe tbody tr th:only-of-type {\n",
       "        vertical-align: middle;\n",
       "    }\n",
       "\n",
       "    .dataframe tbody tr th {\n",
       "        vertical-align: top;\n",
       "    }\n",
       "\n",
       "    .dataframe thead th {\n",
       "        text-align: right;\n",
       "    }\n",
       "</style>\n",
       "<table border=\"1\" class=\"dataframe\">\n",
       "  <thead>\n",
       "    <tr style=\"text-align: right;\">\n",
       "      <th></th>\n",
       "      <th>total_funcionarios</th>\n",
       "      <th>colunas_nomes</th>\n",
       "      <th>pagamento_bruto</th>\n",
       "      <th>mes</th>\n",
       "      <th>variacao_funcionarios</th>\n",
       "    </tr>\n",
       "  </thead>\n",
       "  <tbody>\n",
       "    <tr>\n",
       "      <th>0</th>\n",
       "      <td>124477</td>\n",
       "      <td>[Exceção, Nome completo, Cargo Base, Cargo em ...</td>\n",
       "      <td>947075529.27</td>\n",
       "      <td>janeiro</td>\n",
       "      <td>0</td>\n",
       "    </tr>\n",
       "    <tr>\n",
       "      <th>1</th>\n",
       "      <td>124501</td>\n",
       "      <td>[Exceção, Nome completo, Cargo Base, Cargo em ...</td>\n",
       "      <td>947621817.35</td>\n",
       "      <td>fevereiro</td>\n",
       "      <td>24</td>\n",
       "    </tr>\n",
       "    <tr>\n",
       "      <th>2</th>\n",
       "      <td>123445</td>\n",
       "      <td>[Exceção, Nome completo, Cargo Base, Cargo em ...</td>\n",
       "      <td>793119251.48</td>\n",
       "      <td>março</td>\n",
       "      <td>-1056</td>\n",
       "    </tr>\n",
       "    <tr>\n",
       "      <th>3</th>\n",
       "      <td>122913</td>\n",
       "      <td>[Exceção, Nome completo, Cargo Base, Cargo em ...</td>\n",
       "      <td>760240124.41</td>\n",
       "      <td>abril</td>\n",
       "      <td>-532</td>\n",
       "    </tr>\n",
       "    <tr>\n",
       "      <th>4</th>\n",
       "      <td>122789</td>\n",
       "      <td>[Exceção, Nome completo, Cargo Base, Cargo em ...</td>\n",
       "      <td>815123210.48</td>\n",
       "      <td>maio</td>\n",
       "      <td>-124</td>\n",
       "    </tr>\n",
       "    <tr>\n",
       "      <th>5</th>\n",
       "      <td>122675</td>\n",
       "      <td>[Exceção, Nome completo, Cargo Base, Cargo em ...</td>\n",
       "      <td>1042917430.23</td>\n",
       "      <td>junho</td>\n",
       "      <td>-114</td>\n",
       "    </tr>\n",
       "    <tr>\n",
       "      <th>6</th>\n",
       "      <td>122677</td>\n",
       "      <td>[Exceção, Nome completo, Cargo Base, Cargo em ...</td>\n",
       "      <td>884343724.42</td>\n",
       "      <td>julho</td>\n",
       "      <td>2</td>\n",
       "    </tr>\n",
       "    <tr>\n",
       "      <th>7</th>\n",
       "      <td>122750</td>\n",
       "      <td>[Exceção, Nome completo, Cargo Base, Cargo em ...</td>\n",
       "      <td>861782412.25</td>\n",
       "      <td>agosto</td>\n",
       "      <td>73</td>\n",
       "    </tr>\n",
       "    <tr>\n",
       "      <th>8</th>\n",
       "      <td>121824</td>\n",
       "      <td>[Exceção, Nome completo, Cargo Base, Cargo em ...</td>\n",
       "      <td>802009786.54</td>\n",
       "      <td>setembro</td>\n",
       "      <td>-926</td>\n",
       "    </tr>\n",
       "    <tr>\n",
       "      <th>9</th>\n",
       "      <td>121018</td>\n",
       "      <td>[Exceção, Nome completo, Cargo Base, Cargo em ...</td>\n",
       "      <td>807586261.58</td>\n",
       "      <td>outubro</td>\n",
       "      <td>-806</td>\n",
       "    </tr>\n",
       "    <tr>\n",
       "      <th>10</th>\n",
       "      <td>121232</td>\n",
       "      <td>[Exceção, Nome completo, Cargo Base, Cargo em ...</td>\n",
       "      <td>838787004.48</td>\n",
       "      <td>novembro</td>\n",
       "      <td>214</td>\n",
       "    </tr>\n",
       "    <tr>\n",
       "      <th>11</th>\n",
       "      <td>121264</td>\n",
       "      <td>[Exceção, Nome completo, Cargo Base, Cargo em ...</td>\n",
       "      <td>906768336.78</td>\n",
       "      <td>dezembro</td>\n",
       "      <td>32</td>\n",
       "    </tr>\n",
       "  </tbody>\n",
       "</table>\n",
       "</div>"
      ],
      "text/plain": [
       "    total_funcionarios                                      colunas_nomes  \\\n",
       "0               124477  [Exceção, Nome completo, Cargo Base, Cargo em ...   \n",
       "1               124501  [Exceção, Nome completo, Cargo Base, Cargo em ...   \n",
       "2               123445  [Exceção, Nome completo, Cargo Base, Cargo em ...   \n",
       "3               122913  [Exceção, Nome completo, Cargo Base, Cargo em ...   \n",
       "4               122789  [Exceção, Nome completo, Cargo Base, Cargo em ...   \n",
       "5               122675  [Exceção, Nome completo, Cargo Base, Cargo em ...   \n",
       "6               122677  [Exceção, Nome completo, Cargo Base, Cargo em ...   \n",
       "7               122750  [Exceção, Nome completo, Cargo Base, Cargo em ...   \n",
       "8               121824  [Exceção, Nome completo, Cargo Base, Cargo em ...   \n",
       "9               121018  [Exceção, Nome completo, Cargo Base, Cargo em ...   \n",
       "10              121232  [Exceção, Nome completo, Cargo Base, Cargo em ...   \n",
       "11              121264  [Exceção, Nome completo, Cargo Base, Cargo em ...   \n",
       "\n",
       "    pagamento_bruto        mes  variacao_funcionarios  \n",
       "0      947075529.27    janeiro                      0  \n",
       "1      947621817.35  fevereiro                     24  \n",
       "2      793119251.48      março                  -1056  \n",
       "3      760240124.41      abril                   -532  \n",
       "4      815123210.48       maio                   -124  \n",
       "5     1042917430.23      junho                   -114  \n",
       "6      884343724.42      julho                      2  \n",
       "7      861782412.25     agosto                     73  \n",
       "8      802009786.54   setembro                   -926  \n",
       "9      807586261.58    outubro                   -806  \n",
       "10     838787004.48   novembro                    214  \n",
       "11     906768336.78   dezembro                     32  "
      ]
     },
     "execution_count": 56,
     "metadata": {},
     "output_type": "execute_result"
    }
   ],
   "source": [
    "df_2017.head(12)"
   ]
  },
  {
   "cell_type": "code",
   "execution_count": 57,
   "metadata": {},
   "outputs": [
    {
     "data": {
      "image/png": "[encoded data removed]",
      "text/plain": [
       "<Figure size 864x576 with 1 Axes>"
      ]
     },
     "metadata": {},
     "output_type": "display_data"
    }
   ],
   "source": [
    "sns.set(style=\"darkgrid\")\n",
    "fig, axs = plt.subplots(nrows=1, ncols=1, figsize=(12, 8))\n",
    "plt.title(\"Funcionários Ativos Secretaria 2017\")\n",
    "sns.lineplot(x = 'mes',y='total_funcionarios', marker = 'o', data = df_2017, sort=False);"
   ]
  },
  {
   "cell_type": "code",
   "execution_count": 58,
   "metadata": {},
   "outputs": [
    {
     "data": {
      "image/png": "[encoded data removed]",
      "text/plain": [
       "<Figure size 864x576 with 1 Axes>"
      ]
     },
     "metadata": {},
     "output_type": "display_data"
    }
   ],
   "source": [
    "sns.set(style=\"darkgrid\")\n",
    "fig, axs = plt.subplots(nrows=1, ncols=1, figsize=(12, 8))\n",
    "axs.set(yscale='linear')\n",
    "plt.title(\"Pagamentos Brutos Funcionários 2017\")\n",
    "sns.lineplot(x = 'mes',y='pagamento_bruto', marker = 'o', data = df_2017, sort=False);"
   ]
  },
  {
   "cell_type": "code",
   "execution_count": null,
   "metadata": {},
   "outputs": [],
   "source": []
  },
  {
   "cell_type": "code",
   "execution_count": null,
   "metadata": {},
   "outputs": [],
   "source": []
  },
  {
   "cell_type": "code",
   "execution_count": null,
   "metadata": {},
   "outputs": [],
   "source": []
  },
  {
   "cell_type": "code",
   "execution_count": null,
   "metadata": {},
   "outputs": [],
   "source": []
  },
  {
   "cell_type": "code",
   "execution_count": null,
   "metadata": {},
   "outputs": [],
   "source": []
  },
  {
   "cell_type": "code",
   "execution_count": null,
   "metadata": {},
   "outputs": [],
   "source": []
  },
  {
   "cell_type": "code",
   "execution_count": null,
   "metadata": {},
   "outputs": [],
   "source": []
  },
  {
   "cell_type": "code",
   "execution_count": null,
   "metadata": {},
   "outputs": [],
   "source": []
  },
  {
   "cell_type": "code",
   "execution_count": null,
   "metadata": {},
   "outputs": [],
   "source": []
  },
  {
   "cell_type": "code",
   "execution_count": null,
   "metadata": {},
   "outputs": [],
   "source": []
  },
  {
   "cell_type": "code",
   "execution_count": null,
   "metadata": {},
   "outputs": [],
   "source": []
  },
  {
   "cell_type": "code",
   "execution_count": null,
   "metadata": {},
   "outputs": [],
   "source": []
  },
  {
   "cell_type": "code",
   "execution_count": null,
   "metadata": {},
   "outputs": [],
   "source": []
  },
  {
   "cell_type": "code",
   "execution_count": null,
   "metadata": {},
   "outputs": [],
   "source": []
  },
  {
   "cell_type": "code",
   "execution_count": null,
   "metadata": {},
   "outputs": [],
   "source": []
  },
  {
   "cell_type": "code",
   "execution_count": null,
   "metadata": {},
   "outputs": [],
   "source": []
  }
 ],
 "metadata": {
  "kernelspec": {
   "display_name": "Python 3",
   "language": "python",
   "name": "python3"
  },
  "language_info": {
   "codemirror_mode": {
    "name": "ipython",
    "version": 3
   },
   "file_extension": ".py",
   "mimetype": "text/x-python",
   "name": "python",
   "nbconvert_exporter": "python",
   "pygments_lexer": "ipython3",
   "version": "3.6.5"
  }
 },
 "nbformat": 4,
 "nbformat_minor": 2
}
