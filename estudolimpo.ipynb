{
 "cells": [
  {
   "cell_type": "markdown",
   "metadata": {},
   "source": [
    "Para começar, primeiro precisamos importar as seguintes bibliotecas:\n",
    "\n",
    "Pandas: para saber mais: https://medium.com/data-hackers/uma-introdu%C3%A7%C3%A3o-simples-ao-pandas-1e15eea37fa1 / https://pandas.pydata.org/\n",
    "\n",
    "Numpy: http://www.numpy.org/"
   ]
  },
  {
   "cell_type": "code",
   "execution_count": 1,
   "metadata": {},
   "outputs": [],
   "source": [
    "import pandas as pd\n",
    "import numpy as np"
   ]
  },
  {
   "cell_type": "markdown",
   "metadata": {},
   "source": [
    "Após importar as duas bibliotecas você pode: importar o seu dataset (bando de dados) ou construir um dentro \n",
    "do próprio Jupyter. \n",
    "\n",
    "Vou importar um dataset e transformá-lo em dataframe.\n",
    "\n",
    "DataFrame: Um data frame é semelhante a uma matriz mas as suas colunas têm nomes e podem conter dados de tipo diferente. Um data frame pode ser visto como uma tabela de uma base de dados, em que cada linha corresponde a um registo (linha) da tabela. (http://www.dcc.fc.up.pt/~ltorgo/SebentaR/HTML/node16.html) \n",
    "\n",
    "aqui as linhas e as colunas são os axis. O Axis = 0 é a coluna e o axis = 1 é a linha"
   ]
  },
  {
   "cell_type": "code",
   "execution_count": 2,
   "metadata": {},
   "outputs": [],
   "source": [
    "df = pd.read_csv('Pasta1.csv',sep=';', decimal=',', encoding=\"cp1252\")"
   ]
  },
  {
   "cell_type": "markdown",
   "metadata": {},
   "source": [
    "A gente usa o comando read_ para ler o arquivo que estamos abrindo + a extensão em que ele é salvo.\n",
    "\n",
    "Como estamos usando o windows e às vezes as coisas dão pau, a gente usa a linha:\n",
    "\n",
    "sep=';',encoding=\"cp1252\"\n",
    "\n",
    "onde falamos que o separador (sep) é o ; e o encoding é o cp1252 (windonws) ou UTF-8 (para os demais)\n",
    "\n",
    "colocamos também o decimal =',' para que ele entenda que a , (nativos em portugues) é o da casa decimal. \n",
    "\n",
    "Encoding = responsável por codificar um codepoint em bytes - ou seja desconfigura as vezes de um para o outro, sobre tudo de windows pro resto"
   ]
  },
  {
   "cell_type": "code",
   "execution_count": 3,
   "metadata": {},
   "outputs": [
    {
     "data": {
      "text/html": [
       "<div>\n",
       "<style scoped>\n",
       "    .dataframe tbody tr th:only-of-type {\n",
       "        vertical-align: middle;\n",
       "    }\n",
       "\n",
       "    .dataframe tbody tr th {\n",
       "        vertical-align: top;\n",
       "    }\n",
       "\n",
       "    .dataframe thead th {\n",
       "        text-align: right;\n",
       "    }\n",
       "</style>\n",
       "<table border=\"1\" class=\"dataframe\">\n",
       "  <thead>\n",
       "    <tr style=\"text-align: right;\">\n",
       "      <th></th>\n",
       "      <th>ID</th>\n",
       "      <th>estado Origem</th>\n",
       "      <th>IDADE</th>\n",
       "      <th>escolaridade</th>\n",
       "      <th>Trabalha como Programadora</th>\n",
       "      <th>Renda Mensal</th>\n",
       "    </tr>\n",
       "  </thead>\n",
       "  <tbody>\n",
       "    <tr>\n",
       "      <th>0</th>\n",
       "      <td>1</td>\n",
       "      <td>SP</td>\n",
       "      <td>36</td>\n",
       "      <td>4</td>\n",
       "      <td>S</td>\n",
       "      <td>3737.52</td>\n",
       "    </tr>\n",
       "    <tr>\n",
       "      <th>1</th>\n",
       "      <td>2</td>\n",
       "      <td>SP</td>\n",
       "      <td>25</td>\n",
       "      <td>2</td>\n",
       "      <td>N</td>\n",
       "      <td>400.00</td>\n",
       "    </tr>\n",
       "    <tr>\n",
       "      <th>2</th>\n",
       "      <td>3</td>\n",
       "      <td>MG</td>\n",
       "      <td>34</td>\n",
       "      <td>3</td>\n",
       "      <td>S</td>\n",
       "      <td>2366.14</td>\n",
       "    </tr>\n",
       "    <tr>\n",
       "      <th>3</th>\n",
       "      <td>4</td>\n",
       "      <td>RJ</td>\n",
       "      <td>23</td>\n",
       "      <td>3</td>\n",
       "      <td>S</td>\n",
       "      <td>2841.29</td>\n",
       "    </tr>\n",
       "    <tr>\n",
       "      <th>4</th>\n",
       "      <td>5</td>\n",
       "      <td>SP</td>\n",
       "      <td>31</td>\n",
       "      <td>4</td>\n",
       "      <td>N</td>\n",
       "      <td>800.00</td>\n",
       "    </tr>\n",
       "    <tr>\n",
       "      <th>5</th>\n",
       "      <td>6</td>\n",
       "      <td>SP</td>\n",
       "      <td>34</td>\n",
       "      <td>5</td>\n",
       "      <td>S</td>\n",
       "      <td>3433.02</td>\n",
       "    </tr>\n",
       "    <tr>\n",
       "      <th>6</th>\n",
       "      <td>7</td>\n",
       "      <td>SP</td>\n",
       "      <td>39</td>\n",
       "      <td>5</td>\n",
       "      <td>S</td>\n",
       "      <td>2752.74</td>\n",
       "    </tr>\n",
       "    <tr>\n",
       "      <th>7</th>\n",
       "      <td>8</td>\n",
       "      <td>PE</td>\n",
       "      <td>24</td>\n",
       "      <td>3</td>\n",
       "      <td>S</td>\n",
       "      <td>3682.33</td>\n",
       "    </tr>\n",
       "    <tr>\n",
       "      <th>8</th>\n",
       "      <td>9</td>\n",
       "      <td>RJ</td>\n",
       "      <td>29</td>\n",
       "      <td>3</td>\n",
       "      <td>S</td>\n",
       "      <td>2359.28</td>\n",
       "    </tr>\n",
       "    <tr>\n",
       "      <th>9</th>\n",
       "      <td>10</td>\n",
       "      <td>SP</td>\n",
       "      <td>27</td>\n",
       "      <td>3</td>\n",
       "      <td>S</td>\n",
       "      <td>2119.15</td>\n",
       "    </tr>\n",
       "    <tr>\n",
       "      <th>10</th>\n",
       "      <td>11</td>\n",
       "      <td>SP</td>\n",
       "      <td>30</td>\n",
       "      <td>3</td>\n",
       "      <td>S</td>\n",
       "      <td>3326.79</td>\n",
       "    </tr>\n",
       "    <tr>\n",
       "      <th>11</th>\n",
       "      <td>12</td>\n",
       "      <td>SP</td>\n",
       "      <td>25</td>\n",
       "      <td>4</td>\n",
       "      <td>S</td>\n",
       "      <td>2684.05</td>\n",
       "    </tr>\n",
       "    <tr>\n",
       "      <th>12</th>\n",
       "      <td>13</td>\n",
       "      <td>SP</td>\n",
       "      <td>23</td>\n",
       "      <td>2</td>\n",
       "      <td>S</td>\n",
       "      <td>3507.84</td>\n",
       "    </tr>\n",
       "    <tr>\n",
       "      <th>13</th>\n",
       "      <td>14</td>\n",
       "      <td>SP</td>\n",
       "      <td>16</td>\n",
       "      <td>1</td>\n",
       "      <td>N</td>\n",
       "      <td>0.00</td>\n",
       "    </tr>\n",
       "    <tr>\n",
       "      <th>14</th>\n",
       "      <td>15</td>\n",
       "      <td>V</td>\n",
       "      <td>36</td>\n",
       "      <td>4</td>\n",
       "      <td>N</td>\n",
       "      <td>800.00</td>\n",
       "    </tr>\n",
       "  </tbody>\n",
       "</table>\n",
       "</div>"
      ],
      "text/plain": [
       "    ID estado Origem  IDADE  escolaridade Trabalha como Programadora  \\\n",
       "0    1            SP     36             4                          S   \n",
       "1    2            SP     25             2                          N   \n",
       "2    3            MG     34             3                          S   \n",
       "3    4            RJ     23             3                          S   \n",
       "4    5            SP     31             4                          N   \n",
       "5    6            SP     34             5                          S   \n",
       "6    7            SP     39             5                          S   \n",
       "7    8            PE     24             3                          S   \n",
       "8    9            RJ     29             3                          S   \n",
       "9   10            SP     27             3                          S   \n",
       "10  11            SP     30             3                          S   \n",
       "11  12            SP     25             4                          S   \n",
       "12  13            SP     23             2                          S   \n",
       "13  14            SP     16             1                          N   \n",
       "14  15             V     36             4                          N   \n",
       "\n",
       "    Renda Mensal  \n",
       "0        3737.52  \n",
       "1         400.00  \n",
       "2        2366.14  \n",
       "3        2841.29  \n",
       "4         800.00  \n",
       "5        3433.02  \n",
       "6        2752.74  \n",
       "7        3682.33  \n",
       "8        2359.28  \n",
       "9        2119.15  \n",
       "10       3326.79  \n",
       "11       2684.05  \n",
       "12       3507.84  \n",
       "13          0.00  \n",
       "14        800.00  "
      ]
     },
     "execution_count": 3,
     "metadata": {},
     "output_type": "execute_result"
    }
   ],
   "source": [
    "df #traz o df inteiro"
   ]
  },
  {
   "cell_type": "markdown",
   "metadata": {},
   "source": [
    "Como esse df é pequeno tudo bem chamar ele, agora qdo temos um df grande compensa olhar o head ou o tail para ver se importamos o dataframe corretamente e se está configurado os campos"
   ]
  },
  {
   "cell_type": "code",
   "execution_count": 4,
   "metadata": {},
   "outputs": [
    {
     "data": {
      "text/html": [
       "<div>\n",
       "<style scoped>\n",
       "    .dataframe tbody tr th:only-of-type {\n",
       "        vertical-align: middle;\n",
       "    }\n",
       "\n",
       "    .dataframe tbody tr th {\n",
       "        vertical-align: top;\n",
       "    }\n",
       "\n",
       "    .dataframe thead th {\n",
       "        text-align: right;\n",
       "    }\n",
       "</style>\n",
       "<table border=\"1\" class=\"dataframe\">\n",
       "  <thead>\n",
       "    <tr style=\"text-align: right;\">\n",
       "      <th></th>\n",
       "      <th>ID</th>\n",
       "      <th>estado Origem</th>\n",
       "      <th>IDADE</th>\n",
       "      <th>escolaridade</th>\n",
       "      <th>Trabalha como Programadora</th>\n",
       "      <th>Renda Mensal</th>\n",
       "    </tr>\n",
       "  </thead>\n",
       "  <tbody>\n",
       "    <tr>\n",
       "      <th>0</th>\n",
       "      <td>1</td>\n",
       "      <td>SP</td>\n",
       "      <td>36</td>\n",
       "      <td>4</td>\n",
       "      <td>S</td>\n",
       "      <td>3737.52</td>\n",
       "    </tr>\n",
       "    <tr>\n",
       "      <th>1</th>\n",
       "      <td>2</td>\n",
       "      <td>SP</td>\n",
       "      <td>25</td>\n",
       "      <td>2</td>\n",
       "      <td>N</td>\n",
       "      <td>400.00</td>\n",
       "    </tr>\n",
       "    <tr>\n",
       "      <th>2</th>\n",
       "      <td>3</td>\n",
       "      <td>MG</td>\n",
       "      <td>34</td>\n",
       "      <td>3</td>\n",
       "      <td>S</td>\n",
       "      <td>2366.14</td>\n",
       "    </tr>\n",
       "    <tr>\n",
       "      <th>3</th>\n",
       "      <td>4</td>\n",
       "      <td>RJ</td>\n",
       "      <td>23</td>\n",
       "      <td>3</td>\n",
       "      <td>S</td>\n",
       "      <td>2841.29</td>\n",
       "    </tr>\n",
       "    <tr>\n",
       "      <th>4</th>\n",
       "      <td>5</td>\n",
       "      <td>SP</td>\n",
       "      <td>31</td>\n",
       "      <td>4</td>\n",
       "      <td>N</td>\n",
       "      <td>800.00</td>\n",
       "    </tr>\n",
       "  </tbody>\n",
       "</table>\n",
       "</div>"
      ],
      "text/plain": [
       "   ID estado Origem  IDADE  escolaridade Trabalha como Programadora  \\\n",
       "0   1            SP     36             4                          S   \n",
       "1   2            SP     25             2                          N   \n",
       "2   3            MG     34             3                          S   \n",
       "3   4            RJ     23             3                          S   \n",
       "4   5            SP     31             4                          N   \n",
       "\n",
       "   Renda Mensal  \n",
       "0       3737.52  \n",
       "1        400.00  \n",
       "2       2366.14  \n",
       "3       2841.29  \n",
       "4        800.00  "
      ]
     },
     "execution_count": 4,
     "metadata": {},
     "output_type": "execute_result"
    }
   ],
   "source": [
    "df.head()"
   ]
  },
  {
   "cell_type": "code",
   "execution_count": 5,
   "metadata": {},
   "outputs": [
    {
     "data": {
      "text/html": [
       "<div>\n",
       "<style scoped>\n",
       "    .dataframe tbody tr th:only-of-type {\n",
       "        vertical-align: middle;\n",
       "    }\n",
       "\n",
       "    .dataframe tbody tr th {\n",
       "        vertical-align: top;\n",
       "    }\n",
       "\n",
       "    .dataframe thead th {\n",
       "        text-align: right;\n",
       "    }\n",
       "</style>\n",
       "<table border=\"1\" class=\"dataframe\">\n",
       "  <thead>\n",
       "    <tr style=\"text-align: right;\">\n",
       "      <th></th>\n",
       "      <th>ID</th>\n",
       "      <th>estado Origem</th>\n",
       "      <th>IDADE</th>\n",
       "      <th>escolaridade</th>\n",
       "      <th>Trabalha como Programadora</th>\n",
       "      <th>Renda Mensal</th>\n",
       "    </tr>\n",
       "  </thead>\n",
       "  <tbody>\n",
       "    <tr>\n",
       "      <th>10</th>\n",
       "      <td>11</td>\n",
       "      <td>SP</td>\n",
       "      <td>30</td>\n",
       "      <td>3</td>\n",
       "      <td>S</td>\n",
       "      <td>3326.79</td>\n",
       "    </tr>\n",
       "    <tr>\n",
       "      <th>11</th>\n",
       "      <td>12</td>\n",
       "      <td>SP</td>\n",
       "      <td>25</td>\n",
       "      <td>4</td>\n",
       "      <td>S</td>\n",
       "      <td>2684.05</td>\n",
       "    </tr>\n",
       "    <tr>\n",
       "      <th>12</th>\n",
       "      <td>13</td>\n",
       "      <td>SP</td>\n",
       "      <td>23</td>\n",
       "      <td>2</td>\n",
       "      <td>S</td>\n",
       "      <td>3507.84</td>\n",
       "    </tr>\n",
       "    <tr>\n",
       "      <th>13</th>\n",
       "      <td>14</td>\n",
       "      <td>SP</td>\n",
       "      <td>16</td>\n",
       "      <td>1</td>\n",
       "      <td>N</td>\n",
       "      <td>0.00</td>\n",
       "    </tr>\n",
       "    <tr>\n",
       "      <th>14</th>\n",
       "      <td>15</td>\n",
       "      <td>V</td>\n",
       "      <td>36</td>\n",
       "      <td>4</td>\n",
       "      <td>N</td>\n",
       "      <td>800.00</td>\n",
       "    </tr>\n",
       "  </tbody>\n",
       "</table>\n",
       "</div>"
      ],
      "text/plain": [
       "    ID estado Origem  IDADE  escolaridade Trabalha como Programadora  \\\n",
       "10  11            SP     30             3                          S   \n",
       "11  12            SP     25             4                          S   \n",
       "12  13            SP     23             2                          S   \n",
       "13  14            SP     16             1                          N   \n",
       "14  15             V     36             4                          N   \n",
       "\n",
       "    Renda Mensal  \n",
       "10       3326.79  \n",
       "11       2684.05  \n",
       "12       3507.84  \n",
       "13          0.00  \n",
       "14        800.00  "
      ]
     },
     "execution_count": 5,
     "metadata": {},
     "output_type": "execute_result"
    }
   ],
   "source": [
    "df.tail()"
   ]
  },
  {
   "cell_type": "markdown",
   "metadata": {},
   "source": [
    "Podemos também querer saber quantas linhas há em um dataframe, por isso usamso o comando len()\n",
    "\n",
    "lembrando que: len() returns the number of elements in the list.(https://www.tutorialspoint.com/python/list_len.htm)"
   ]
  },
  {
   "cell_type": "code",
   "execution_count": 6,
   "metadata": {},
   "outputs": [
    {
     "data": {
      "text/plain": [
       "15"
      ]
     },
     "execution_count": 6,
     "metadata": {},
     "output_type": "execute_result"
    }
   ],
   "source": [
    "len(df)"
   ]
  },
  {
   "cell_type": "markdown",
   "metadata": {},
   "source": [
    "Eu quero saber quais são as colunas criadas desse dataframe, para isso eu uso o comando columns() - isso é ótimo para dataframes grandes"
   ]
  },
  {
   "cell_type": "code",
   "execution_count": 7,
   "metadata": {},
   "outputs": [
    {
     "data": {
      "text/plain": [
       "Index(['ID', 'estado Origem', 'IDADE', 'escolaridade',\n",
       "       'Trabalha como Programadora', 'Renda Mensal'],\n",
       "      dtype='object')"
      ]
     },
     "execution_count": 7,
     "metadata": {},
     "output_type": "execute_result"
    }
   ],
   "source": [
    "df.columns"
   ]
  },
  {
   "cell_type": "markdown",
   "metadata": {},
   "source": [
    "Antes de manipular dados de uma coluna é interessante saber qual o tipo de dado que está inserido na coluna. Para isso usamso o type ou dtype."
   ]
  },
  {
   "cell_type": "code",
   "execution_count": 8,
   "metadata": {},
   "outputs": [
    {
     "data": {
      "text/plain": [
       "dtype('float64')"
      ]
     },
     "execution_count": 8,
     "metadata": {},
     "output_type": "execute_result"
    }
   ],
   "source": [
    "df['Renda Mensal'].dtype"
   ]
  },
  {
   "cell_type": "markdown",
   "metadata": {},
   "source": [
    "Podemos  fazer várias operações matemáticas com as colunas usando comandos, conforme abaixo:\n",
    "\n",
    "sum()- soma\n",
    "mean () - média "
   ]
  },
  {
   "cell_type": "code",
   "execution_count": 9,
   "metadata": {},
   "outputs": [
    {
     "data": {
      "text/plain": [
       "34810.15"
      ]
     },
     "execution_count": 9,
     "metadata": {},
     "output_type": "execute_result"
    }
   ],
   "source": [
    "df['Renda Mensal'].sum()"
   ]
  },
  {
   "cell_type": "markdown",
   "metadata": {},
   "source": [
    "Agora se quisermos armazenar em uma variável esse valor, para depois printar bonitinho na tela, preciasmos informar que estamos usando um Pandas para fazer a conta usando o pd.series() \n",
    "\n",
    "para saber sobre pd.series = https://pandas.pydata.org/pandas-docs/stable/dsintro.html"
   ]
  },
  {
   "cell_type": "code",
   "execution_count": 10,
   "metadata": {},
   "outputs": [
    {
     "name": "stdout",
     "output_type": "stream",
     "text": [
      "A soma dos Rendimentos Mensais é de: R$ 34810.15\n"
     ]
    }
   ],
   "source": [
    "soma_RM = pd.Series(df['Renda Mensal']).sum()\n",
    "print(\"A soma dos Rendimentos Mensais é de: R$\", (soma_RM))"
   ]
  },
  {
   "cell_type": "markdown",
   "metadata": {},
   "source": [
    "Podemos calcular a média usando o mean() e para delimitar a quantidade de zeros usamos:\n",
    "\n",
    "\"%. xf\" % - onde o x é a quantidade de casas decimais"
   ]
  },
  {
   "cell_type": "code",
   "execution_count": 11,
   "metadata": {},
   "outputs": [
    {
     "name": "stdout",
     "output_type": "stream",
     "text": [
      "A média dos rendimenos é de:R$ 2320.68\n"
     ]
    }
   ],
   "source": [
    "print(\"A média dos rendimenos é de:R$\", \"%.2f\" % df['Renda Mensal'].mean()) # delimitando"
   ]
  },
  {
   "cell_type": "code",
   "execution_count": 12,
   "metadata": {},
   "outputs": [
    {
     "name": "stdout",
     "output_type": "stream",
     "text": [
      "A média dos rendimenos é de:R$ 2320.6766666666667\n"
     ]
    }
   ],
   "source": [
    "print(\"A média dos rendimenos é de:R$\", df['Renda Mensal'].mean()) # sem delimitação"
   ]
  },
  {
   "cell_type": "markdown",
   "metadata": {},
   "source": [
    "Nós queríamos ver a média de rendimentos mensais quando as participantes são programadoras e não programadoras. Por isso criamso um view de um dataframe para trabalharmos apenas com as colunas que desejamos."
   ]
  },
  {
   "cell_type": "code",
   "execution_count": 13,
   "metadata": {},
   "outputs": [],
   "source": [
    "df2=df[['Trabalha como Programadora','Renda Mensal']]"
   ]
  },
  {
   "cell_type": "code",
   "execution_count": 14,
   "metadata": {},
   "outputs": [
    {
     "data": {
      "text/html": [
       "<div>\n",
       "<style scoped>\n",
       "    .dataframe tbody tr th:only-of-type {\n",
       "        vertical-align: middle;\n",
       "    }\n",
       "\n",
       "    .dataframe tbody tr th {\n",
       "        vertical-align: top;\n",
       "    }\n",
       "\n",
       "    .dataframe thead th {\n",
       "        text-align: right;\n",
       "    }\n",
       "</style>\n",
       "<table border=\"1\" class=\"dataframe\">\n",
       "  <thead>\n",
       "    <tr style=\"text-align: right;\">\n",
       "      <th></th>\n",
       "      <th>Trabalha como Programadora</th>\n",
       "      <th>Renda Mensal</th>\n",
       "    </tr>\n",
       "  </thead>\n",
       "  <tbody>\n",
       "    <tr>\n",
       "      <th>0</th>\n",
       "      <td>S</td>\n",
       "      <td>3737.52</td>\n",
       "    </tr>\n",
       "    <tr>\n",
       "      <th>1</th>\n",
       "      <td>N</td>\n",
       "      <td>400.00</td>\n",
       "    </tr>\n",
       "    <tr>\n",
       "      <th>2</th>\n",
       "      <td>S</td>\n",
       "      <td>2366.14</td>\n",
       "    </tr>\n",
       "    <tr>\n",
       "      <th>3</th>\n",
       "      <td>S</td>\n",
       "      <td>2841.29</td>\n",
       "    </tr>\n",
       "    <tr>\n",
       "      <th>4</th>\n",
       "      <td>N</td>\n",
       "      <td>800.00</td>\n",
       "    </tr>\n",
       "  </tbody>\n",
       "</table>\n",
       "</div>"
      ],
      "text/plain": [
       "  Trabalha como Programadora  Renda Mensal\n",
       "0                          S       3737.52\n",
       "1                          N        400.00\n",
       "2                          S       2366.14\n",
       "3                          S       2841.29\n",
       "4                          N        800.00"
      ]
     },
     "execution_count": 14,
     "metadata": {},
     "output_type": "execute_result"
    }
   ],
   "source": [
    "df2.head()"
   ]
  },
  {
   "cell_type": "markdown",
   "metadata": {},
   "source": [
    "Eu quero visualizar uma tabela que me permita ver a soma de valores por categoria (Trabalha como programadora). Para isso usamos o groupby (https://pandas.pydata.org/pandas-docs/stable/generated/pandas.DataFrame.groupby.html) + as funções que desejarmos, conforme exemplos:"
   ]
  },
  {
   "cell_type": "code",
   "execution_count": 15,
   "metadata": {},
   "outputs": [
    {
     "data": {
      "text/html": [
       "<div>\n",
       "<style scoped>\n",
       "    .dataframe tbody tr th:only-of-type {\n",
       "        vertical-align: middle;\n",
       "    }\n",
       "\n",
       "    .dataframe tbody tr th {\n",
       "        vertical-align: top;\n",
       "    }\n",
       "\n",
       "    .dataframe thead th {\n",
       "        text-align: right;\n",
       "    }\n",
       "</style>\n",
       "<table border=\"1\" class=\"dataframe\">\n",
       "  <thead>\n",
       "    <tr style=\"text-align: right;\">\n",
       "      <th></th>\n",
       "      <th>Renda Mensal</th>\n",
       "    </tr>\n",
       "    <tr>\n",
       "      <th>Trabalha como Programadora</th>\n",
       "      <th></th>\n",
       "    </tr>\n",
       "  </thead>\n",
       "  <tbody>\n",
       "    <tr>\n",
       "      <th>N</th>\n",
       "      <td>2000.00</td>\n",
       "    </tr>\n",
       "    <tr>\n",
       "      <th>S</th>\n",
       "      <td>32810.15</td>\n",
       "    </tr>\n",
       "  </tbody>\n",
       "</table>\n",
       "</div>"
      ],
      "text/plain": [
       "                            Renda Mensal\n",
       "Trabalha como Programadora              \n",
       "N                                2000.00\n",
       "S                               32810.15"
      ]
     },
     "execution_count": 15,
     "metadata": {},
     "output_type": "execute_result"
    }
   ],
   "source": [
    "df2.groupby(['Trabalha como Programadora']).sum()"
   ]
  },
  {
   "cell_type": "code",
   "execution_count": 16,
   "metadata": {},
   "outputs": [
    {
     "data": {
      "text/html": [
       "<div>\n",
       "<style scoped>\n",
       "    .dataframe tbody tr th:only-of-type {\n",
       "        vertical-align: middle;\n",
       "    }\n",
       "\n",
       "    .dataframe tbody tr th {\n",
       "        vertical-align: top;\n",
       "    }\n",
       "\n",
       "    .dataframe thead th {\n",
       "        text-align: right;\n",
       "    }\n",
       "</style>\n",
       "<table border=\"1\" class=\"dataframe\">\n",
       "  <thead>\n",
       "    <tr style=\"text-align: right;\">\n",
       "      <th></th>\n",
       "      <th>Renda Mensal</th>\n",
       "    </tr>\n",
       "    <tr>\n",
       "      <th>Trabalha como Programadora</th>\n",
       "      <th></th>\n",
       "    </tr>\n",
       "  </thead>\n",
       "  <tbody>\n",
       "    <tr>\n",
       "      <th>N</th>\n",
       "      <td>500.000000</td>\n",
       "    </tr>\n",
       "    <tr>\n",
       "      <th>S</th>\n",
       "      <td>2982.740909</td>\n",
       "    </tr>\n",
       "  </tbody>\n",
       "</table>\n",
       "</div>"
      ],
      "text/plain": [
       "                            Renda Mensal\n",
       "Trabalha como Programadora              \n",
       "N                             500.000000\n",
       "S                            2982.740909"
      ]
     },
     "execution_count": 16,
     "metadata": {},
     "output_type": "execute_result"
    }
   ],
   "source": [
    "df2.groupby(['Trabalha como Programadora']).mean()"
   ]
  },
  {
   "cell_type": "markdown",
   "metadata": {},
   "source": [
    "Agora se eu quero saber quantas meninas programam ou não eu posso usar um groupby() + a função count(), como abaixo:"
   ]
  },
  {
   "cell_type": "code",
   "execution_count": 17,
   "metadata": {},
   "outputs": [
    {
     "data": {
      "text/html": [
       "<div>\n",
       "<style scoped>\n",
       "    .dataframe tbody tr th:only-of-type {\n",
       "        vertical-align: middle;\n",
       "    }\n",
       "\n",
       "    .dataframe tbody tr th {\n",
       "        vertical-align: top;\n",
       "    }\n",
       "\n",
       "    .dataframe thead th {\n",
       "        text-align: right;\n",
       "    }\n",
       "</style>\n",
       "<table border=\"1\" class=\"dataframe\">\n",
       "  <thead>\n",
       "    <tr style=\"text-align: right;\">\n",
       "      <th></th>\n",
       "      <th>Renda Mensal</th>\n",
       "    </tr>\n",
       "    <tr>\n",
       "      <th>Trabalha como Programadora</th>\n",
       "      <th></th>\n",
       "    </tr>\n",
       "  </thead>\n",
       "  <tbody>\n",
       "    <tr>\n",
       "      <th>N</th>\n",
       "      <td>4</td>\n",
       "    </tr>\n",
       "    <tr>\n",
       "      <th>S</th>\n",
       "      <td>11</td>\n",
       "    </tr>\n",
       "  </tbody>\n",
       "</table>\n",
       "</div>"
      ],
      "text/plain": [
       "                            Renda Mensal\n",
       "Trabalha como Programadora              \n",
       "N                                      4\n",
       "S                                     11"
      ]
     },
     "execution_count": 17,
     "metadata": {},
     "output_type": "execute_result"
    }
   ],
   "source": [
    "df2.groupby(['Trabalha como Programadora']).count()"
   ]
  },
  {
   "cell_type": "markdown",
   "metadata": {},
   "source": [
    "Posso também querer ver tudo isso em uma única lista, para tal eu uso a junção .agg() que agrega tudo (agg é abrevição de agregation)\n",
    "\n",
    "link: https://pandas.pydata.org/pandas-docs/stable/generated/pandas.core.groupby.DataFrameGroupBy.agg.html"
   ]
  },
  {
   "cell_type": "code",
   "execution_count": 18,
   "metadata": {},
   "outputs": [
    {
     "data": {
      "text/html": [
       "<div>\n",
       "<style scoped>\n",
       "    .dataframe tbody tr th:only-of-type {\n",
       "        vertical-align: middle;\n",
       "    }\n",
       "\n",
       "    .dataframe tbody tr th {\n",
       "        vertical-align: top;\n",
       "    }\n",
       "\n",
       "    .dataframe thead tr th {\n",
       "        text-align: left;\n",
       "    }\n",
       "\n",
       "    .dataframe thead tr:last-of-type th {\n",
       "        text-align: right;\n",
       "    }\n",
       "</style>\n",
       "<table border=\"1\" class=\"dataframe\">\n",
       "  <thead>\n",
       "    <tr>\n",
       "      <th></th>\n",
       "      <th colspan=\"3\" halign=\"left\">Renda Mensal</th>\n",
       "    </tr>\n",
       "    <tr>\n",
       "      <th></th>\n",
       "      <th>count</th>\n",
       "      <th>sum</th>\n",
       "      <th>mean</th>\n",
       "    </tr>\n",
       "    <tr>\n",
       "      <th>Trabalha como Programadora</th>\n",
       "      <th></th>\n",
       "      <th></th>\n",
       "      <th></th>\n",
       "    </tr>\n",
       "  </thead>\n",
       "  <tbody>\n",
       "    <tr>\n",
       "      <th>N</th>\n",
       "      <td>4</td>\n",
       "      <td>2000.00</td>\n",
       "      <td>500.000000</td>\n",
       "    </tr>\n",
       "    <tr>\n",
       "      <th>S</th>\n",
       "      <td>11</td>\n",
       "      <td>32810.15</td>\n",
       "      <td>2982.740909</td>\n",
       "    </tr>\n",
       "  </tbody>\n",
       "</table>\n",
       "</div>"
      ],
      "text/plain": [
       "                           Renda Mensal                       \n",
       "                                  count       sum         mean\n",
       "Trabalha como Programadora                                    \n",
       "N                                     4   2000.00   500.000000\n",
       "S                                    11  32810.15  2982.740909"
      ]
     },
     "execution_count": 18,
     "metadata": {},
     "output_type": "execute_result"
    }
   ],
   "source": [
    "df2.groupby(['Trabalha como Programadora']).agg(['count','sum','mean'])"
   ]
  },
  {
   "cell_type": "markdown",
   "metadata": {},
   "source": [
    "A média é a soma de todos os valores, sendo dividido pelo número de linhas. Por isso uma linha zerada pode causar um \"erro\" na interpretação do dado. Para isso é importante analisar se há zeros ou linhas em branco no dataframe.\n",
    "\n",
    "Para encontrar \"células\" em branco, nós podemos usar o comando isnull(), como no exemplo"
   ]
  },
  {
   "cell_type": "code",
   "execution_count": 19,
   "metadata": {},
   "outputs": [
    {
     "data": {
      "text/html": [
       "<div>\n",
       "<style scoped>\n",
       "    .dataframe tbody tr th:only-of-type {\n",
       "        vertical-align: middle;\n",
       "    }\n",
       "\n",
       "    .dataframe tbody tr th {\n",
       "        vertical-align: top;\n",
       "    }\n",
       "\n",
       "    .dataframe thead th {\n",
       "        text-align: right;\n",
       "    }\n",
       "</style>\n",
       "<table border=\"1\" class=\"dataframe\">\n",
       "  <thead>\n",
       "    <tr style=\"text-align: right;\">\n",
       "      <th></th>\n",
       "      <th>Trabalha como Programadora</th>\n",
       "      <th>Renda Mensal</th>\n",
       "    </tr>\n",
       "  </thead>\n",
       "  <tbody>\n",
       "    <tr>\n",
       "      <th>0</th>\n",
       "      <td>False</td>\n",
       "      <td>False</td>\n",
       "    </tr>\n",
       "    <tr>\n",
       "      <th>1</th>\n",
       "      <td>False</td>\n",
       "      <td>False</td>\n",
       "    </tr>\n",
       "    <tr>\n",
       "      <th>2</th>\n",
       "      <td>False</td>\n",
       "      <td>False</td>\n",
       "    </tr>\n",
       "    <tr>\n",
       "      <th>3</th>\n",
       "      <td>False</td>\n",
       "      <td>False</td>\n",
       "    </tr>\n",
       "    <tr>\n",
       "      <th>4</th>\n",
       "      <td>False</td>\n",
       "      <td>False</td>\n",
       "    </tr>\n",
       "    <tr>\n",
       "      <th>5</th>\n",
       "      <td>False</td>\n",
       "      <td>False</td>\n",
       "    </tr>\n",
       "    <tr>\n",
       "      <th>6</th>\n",
       "      <td>False</td>\n",
       "      <td>False</td>\n",
       "    </tr>\n",
       "    <tr>\n",
       "      <th>7</th>\n",
       "      <td>False</td>\n",
       "      <td>False</td>\n",
       "    </tr>\n",
       "    <tr>\n",
       "      <th>8</th>\n",
       "      <td>False</td>\n",
       "      <td>False</td>\n",
       "    </tr>\n",
       "    <tr>\n",
       "      <th>9</th>\n",
       "      <td>False</td>\n",
       "      <td>False</td>\n",
       "    </tr>\n",
       "    <tr>\n",
       "      <th>10</th>\n",
       "      <td>False</td>\n",
       "      <td>False</td>\n",
       "    </tr>\n",
       "    <tr>\n",
       "      <th>11</th>\n",
       "      <td>False</td>\n",
       "      <td>False</td>\n",
       "    </tr>\n",
       "    <tr>\n",
       "      <th>12</th>\n",
       "      <td>False</td>\n",
       "      <td>False</td>\n",
       "    </tr>\n",
       "    <tr>\n",
       "      <th>13</th>\n",
       "      <td>False</td>\n",
       "      <td>False</td>\n",
       "    </tr>\n",
       "    <tr>\n",
       "      <th>14</th>\n",
       "      <td>False</td>\n",
       "      <td>False</td>\n",
       "    </tr>\n",
       "  </tbody>\n",
       "</table>\n",
       "</div>"
      ],
      "text/plain": [
       "    Trabalha como Programadora  Renda Mensal\n",
       "0                        False         False\n",
       "1                        False         False\n",
       "2                        False         False\n",
       "3                        False         False\n",
       "4                        False         False\n",
       "5                        False         False\n",
       "6                        False         False\n",
       "7                        False         False\n",
       "8                        False         False\n",
       "9                        False         False\n",
       "10                       False         False\n",
       "11                       False         False\n",
       "12                       False         False\n",
       "13                       False         False\n",
       "14                       False         False"
      ]
     },
     "execution_count": 19,
     "metadata": {},
     "output_type": "execute_result"
    }
   ],
   "source": [
    "df2.isnull()"
   ]
  },
  {
   "cell_type": "markdown",
   "metadata": {},
   "source": [
    "Acima ele mostrou todos as linha do dataset, apotando que não há valores nulos. Porém se temos um dataframe grande é melhor usar o .any() para ele localizar em qual linha temos o valor nulo."
   ]
  },
  {
   "cell_type": "code",
   "execution_count": 20,
   "metadata": {},
   "outputs": [
    {
     "data": {
      "text/plain": [
       "Trabalha como Programadora    False\n",
       "Renda Mensal                  False\n",
       "dtype: bool"
      ]
     },
     "execution_count": 20,
     "metadata": {},
     "output_type": "execute_result"
    }
   ],
   "source": [
    "df2.isnull().any()"
   ]
  },
  {
   "cell_type": "markdown",
   "metadata": {},
   "source": [
    "Todos os campos estão preenchidos, porém podemos ter alguma célula preenchida com '0', para isso vamos verificar os campos criando um filtro"
   ]
  },
  {
   "cell_type": "code",
   "execution_count": 21,
   "metadata": {},
   "outputs": [
    {
     "data": {
      "text/html": [
       "<div>\n",
       "<style scoped>\n",
       "    .dataframe tbody tr th:only-of-type {\n",
       "        vertical-align: middle;\n",
       "    }\n",
       "\n",
       "    .dataframe tbody tr th {\n",
       "        vertical-align: top;\n",
       "    }\n",
       "\n",
       "    .dataframe thead th {\n",
       "        text-align: right;\n",
       "    }\n",
       "</style>\n",
       "<table border=\"1\" class=\"dataframe\">\n",
       "  <thead>\n",
       "    <tr style=\"text-align: right;\">\n",
       "      <th></th>\n",
       "      <th>Trabalha como Programadora</th>\n",
       "      <th>Renda Mensal</th>\n",
       "    </tr>\n",
       "  </thead>\n",
       "  <tbody>\n",
       "    <tr>\n",
       "      <th>13</th>\n",
       "      <td>N</td>\n",
       "      <td>0.0</td>\n",
       "    </tr>\n",
       "  </tbody>\n",
       "</table>\n",
       "</div>"
      ],
      "text/plain": [
       "   Trabalha como Programadora  Renda Mensal\n",
       "13                          N           0.0"
      ]
     },
     "execution_count": 21,
     "metadata": {},
     "output_type": "execute_result"
    }
   ],
   "source": [
    "df2[(df2['Renda Mensal'] == 0)]"
   ]
  },
  {
   "cell_type": "markdown",
   "metadata": {},
   "source": [
    "Identificamos que temos uma pessoa com rendimento zerado, o que altera o valor da média. Podemos também fazer um sort_value() (organizar pro valores) que identificariamos se há zeros ou não."
   ]
  },
  {
   "cell_type": "code",
   "execution_count": 22,
   "metadata": {},
   "outputs": [
    {
     "data": {
      "text/plain": [
       "13       0.00\n",
       "1      400.00\n",
       "4      800.00\n",
       "14     800.00\n",
       "9     2119.15\n",
       "8     2359.28\n",
       "2     2366.14\n",
       "11    2684.05\n",
       "6     2752.74\n",
       "3     2841.29\n",
       "10    3326.79\n",
       "5     3433.02\n",
       "12    3507.84\n",
       "7     3682.33\n",
       "0     3737.52\n",
       "Name: Renda Mensal, dtype: float64"
      ]
     },
     "execution_count": 22,
     "metadata": {},
     "output_type": "execute_result"
    }
   ],
   "source": [
    "df2['Renda Mensal'].sort_values()"
   ]
  },
  {
   "cell_type": "markdown",
   "metadata": {},
   "source": [
    "Depois disso queriamos ver a renda média por estado de origem e por escolaridade.\n",
    "Para isso vamos dividir em duas etapas a confecação da resposta. \n",
    "\n",
    "1) Renda e estado de Origem - criamos um dataframe apenas com essas variáveis e epoisusamos um groupby + funções"
   ]
  },
  {
   "cell_type": "code",
   "execution_count": 23,
   "metadata": {},
   "outputs": [],
   "source": [
    "df3 = df[['estado Origem','Renda Mensal']]"
   ]
  },
  {
   "cell_type": "code",
   "execution_count": 24,
   "metadata": {},
   "outputs": [
    {
     "data": {
      "text/html": [
       "<div>\n",
       "<style scoped>\n",
       "    .dataframe tbody tr th:only-of-type {\n",
       "        vertical-align: middle;\n",
       "    }\n",
       "\n",
       "    .dataframe tbody tr th {\n",
       "        vertical-align: top;\n",
       "    }\n",
       "\n",
       "    .dataframe thead th {\n",
       "        text-align: right;\n",
       "    }\n",
       "</style>\n",
       "<table border=\"1\" class=\"dataframe\">\n",
       "  <thead>\n",
       "    <tr style=\"text-align: right;\">\n",
       "      <th></th>\n",
       "      <th>estado Origem</th>\n",
       "      <th>Renda Mensal</th>\n",
       "    </tr>\n",
       "  </thead>\n",
       "  <tbody>\n",
       "    <tr>\n",
       "      <th>10</th>\n",
       "      <td>SP</td>\n",
       "      <td>3326.79</td>\n",
       "    </tr>\n",
       "    <tr>\n",
       "      <th>11</th>\n",
       "      <td>SP</td>\n",
       "      <td>2684.05</td>\n",
       "    </tr>\n",
       "    <tr>\n",
       "      <th>12</th>\n",
       "      <td>SP</td>\n",
       "      <td>3507.84</td>\n",
       "    </tr>\n",
       "    <tr>\n",
       "      <th>13</th>\n",
       "      <td>SP</td>\n",
       "      <td>0.00</td>\n",
       "    </tr>\n",
       "    <tr>\n",
       "      <th>14</th>\n",
       "      <td>V</td>\n",
       "      <td>800.00</td>\n",
       "    </tr>\n",
       "  </tbody>\n",
       "</table>\n",
       "</div>"
      ],
      "text/plain": [
       "   estado Origem  Renda Mensal\n",
       "10            SP       3326.79\n",
       "11            SP       2684.05\n",
       "12            SP       3507.84\n",
       "13            SP          0.00\n",
       "14             V        800.00"
      ]
     },
     "execution_count": 24,
     "metadata": {},
     "output_type": "execute_result"
    }
   ],
   "source": [
    "df3.tail()"
   ]
  },
  {
   "cell_type": "code",
   "execution_count": 25,
   "metadata": {},
   "outputs": [
    {
     "data": {
      "text/html": [
       "<div>\n",
       "<style scoped>\n",
       "    .dataframe tbody tr th:only-of-type {\n",
       "        vertical-align: middle;\n",
       "    }\n",
       "\n",
       "    .dataframe tbody tr th {\n",
       "        vertical-align: top;\n",
       "    }\n",
       "\n",
       "    .dataframe thead tr th {\n",
       "        text-align: left;\n",
       "    }\n",
       "\n",
       "    .dataframe thead tr:last-of-type th {\n",
       "        text-align: right;\n",
       "    }\n",
       "</style>\n",
       "<table border=\"1\" class=\"dataframe\">\n",
       "  <thead>\n",
       "    <tr>\n",
       "      <th></th>\n",
       "      <th colspan=\"3\" halign=\"left\">Renda Mensal</th>\n",
       "    </tr>\n",
       "    <tr>\n",
       "      <th></th>\n",
       "      <th>count</th>\n",
       "      <th>sum</th>\n",
       "      <th>mean</th>\n",
       "    </tr>\n",
       "    <tr>\n",
       "      <th>estado Origem</th>\n",
       "      <th></th>\n",
       "      <th></th>\n",
       "      <th></th>\n",
       "    </tr>\n",
       "  </thead>\n",
       "  <tbody>\n",
       "    <tr>\n",
       "      <th>MG</th>\n",
       "      <td>1</td>\n",
       "      <td>2366.14</td>\n",
       "      <td>2366.140</td>\n",
       "    </tr>\n",
       "    <tr>\n",
       "      <th>PE</th>\n",
       "      <td>1</td>\n",
       "      <td>3682.33</td>\n",
       "      <td>3682.330</td>\n",
       "    </tr>\n",
       "    <tr>\n",
       "      <th>RJ</th>\n",
       "      <td>2</td>\n",
       "      <td>5200.57</td>\n",
       "      <td>2600.285</td>\n",
       "    </tr>\n",
       "    <tr>\n",
       "      <th>SP</th>\n",
       "      <td>10</td>\n",
       "      <td>22761.11</td>\n",
       "      <td>2276.111</td>\n",
       "    </tr>\n",
       "    <tr>\n",
       "      <th>V</th>\n",
       "      <td>1</td>\n",
       "      <td>800.00</td>\n",
       "      <td>800.000</td>\n",
       "    </tr>\n",
       "  </tbody>\n",
       "</table>\n",
       "</div>"
      ],
      "text/plain": [
       "              Renda Mensal                    \n",
       "                     count       sum      mean\n",
       "estado Origem                                 \n",
       "MG                       1   2366.14  2366.140\n",
       "PE                       1   3682.33  3682.330\n",
       "RJ                       2   5200.57  2600.285\n",
       "SP                      10  22761.11  2276.111\n",
       "V                        1    800.00   800.000"
      ]
     },
     "execution_count": 25,
     "metadata": {},
     "output_type": "execute_result"
    }
   ],
   "source": [
    "df3.groupby(['estado Origem']).agg(['count', 'sum', 'mean'])"
   ]
  },
  {
   "cell_type": "markdown",
   "metadata": {},
   "source": [
    "2) Renda e escolaridade - criamos um dataframe apenas com essas variáveis e epoisusamos um groupby + funções"
   ]
  },
  {
   "cell_type": "code",
   "execution_count": 26,
   "metadata": {},
   "outputs": [],
   "source": [
    "df4 = df[['escolaridade','Renda Mensal']]"
   ]
  },
  {
   "cell_type": "code",
   "execution_count": 27,
   "metadata": {},
   "outputs": [
    {
     "data": {
      "text/html": [
       "<div>\n",
       "<style scoped>\n",
       "    .dataframe tbody tr th:only-of-type {\n",
       "        vertical-align: middle;\n",
       "    }\n",
       "\n",
       "    .dataframe tbody tr th {\n",
       "        vertical-align: top;\n",
       "    }\n",
       "\n",
       "    .dataframe thead th {\n",
       "        text-align: right;\n",
       "    }\n",
       "</style>\n",
       "<table border=\"1\" class=\"dataframe\">\n",
       "  <thead>\n",
       "    <tr style=\"text-align: right;\">\n",
       "      <th></th>\n",
       "      <th>escolaridade</th>\n",
       "      <th>Renda Mensal</th>\n",
       "    </tr>\n",
       "  </thead>\n",
       "  <tbody>\n",
       "    <tr>\n",
       "      <th>0</th>\n",
       "      <td>4</td>\n",
       "      <td>3737.52</td>\n",
       "    </tr>\n",
       "    <tr>\n",
       "      <th>1</th>\n",
       "      <td>2</td>\n",
       "      <td>400.00</td>\n",
       "    </tr>\n",
       "    <tr>\n",
       "      <th>2</th>\n",
       "      <td>3</td>\n",
       "      <td>2366.14</td>\n",
       "    </tr>\n",
       "    <tr>\n",
       "      <th>3</th>\n",
       "      <td>3</td>\n",
       "      <td>2841.29</td>\n",
       "    </tr>\n",
       "    <tr>\n",
       "      <th>4</th>\n",
       "      <td>4</td>\n",
       "      <td>800.00</td>\n",
       "    </tr>\n",
       "  </tbody>\n",
       "</table>\n",
       "</div>"
      ],
      "text/plain": [
       "   escolaridade  Renda Mensal\n",
       "0             4       3737.52\n",
       "1             2        400.00\n",
       "2             3       2366.14\n",
       "3             3       2841.29\n",
       "4             4        800.00"
      ]
     },
     "execution_count": 27,
     "metadata": {},
     "output_type": "execute_result"
    }
   ],
   "source": [
    "df4.head()"
   ]
  },
  {
   "cell_type": "code",
   "execution_count": 28,
   "metadata": {},
   "outputs": [
    {
     "data": {
      "text/html": [
       "<div>\n",
       "<style scoped>\n",
       "    .dataframe tbody tr th:only-of-type {\n",
       "        vertical-align: middle;\n",
       "    }\n",
       "\n",
       "    .dataframe tbody tr th {\n",
       "        vertical-align: top;\n",
       "    }\n",
       "\n",
       "    .dataframe thead tr th {\n",
       "        text-align: left;\n",
       "    }\n",
       "\n",
       "    .dataframe thead tr:last-of-type th {\n",
       "        text-align: right;\n",
       "    }\n",
       "</style>\n",
       "<table border=\"1\" class=\"dataframe\">\n",
       "  <thead>\n",
       "    <tr>\n",
       "      <th></th>\n",
       "      <th colspan=\"3\" halign=\"left\">Renda Mensal</th>\n",
       "    </tr>\n",
       "    <tr>\n",
       "      <th></th>\n",
       "      <th>count</th>\n",
       "      <th>sum</th>\n",
       "      <th>mean</th>\n",
       "    </tr>\n",
       "    <tr>\n",
       "      <th>escolaridade</th>\n",
       "      <th></th>\n",
       "      <th></th>\n",
       "      <th></th>\n",
       "    </tr>\n",
       "  </thead>\n",
       "  <tbody>\n",
       "    <tr>\n",
       "      <th>1</th>\n",
       "      <td>1</td>\n",
       "      <td>0.00</td>\n",
       "      <td>0.000000</td>\n",
       "    </tr>\n",
       "    <tr>\n",
       "      <th>2</th>\n",
       "      <td>2</td>\n",
       "      <td>3907.84</td>\n",
       "      <td>1953.920000</td>\n",
       "    </tr>\n",
       "    <tr>\n",
       "      <th>3</th>\n",
       "      <td>6</td>\n",
       "      <td>16694.98</td>\n",
       "      <td>2782.496667</td>\n",
       "    </tr>\n",
       "    <tr>\n",
       "      <th>4</th>\n",
       "      <td>4</td>\n",
       "      <td>8021.57</td>\n",
       "      <td>2005.392500</td>\n",
       "    </tr>\n",
       "    <tr>\n",
       "      <th>5</th>\n",
       "      <td>2</td>\n",
       "      <td>6185.76</td>\n",
       "      <td>3092.880000</td>\n",
       "    </tr>\n",
       "  </tbody>\n",
       "</table>\n",
       "</div>"
      ],
      "text/plain": [
       "             Renda Mensal                       \n",
       "                    count       sum         mean\n",
       "escolaridade                                    \n",
       "1                       1      0.00     0.000000\n",
       "2                       2   3907.84  1953.920000\n",
       "3                       6  16694.98  2782.496667\n",
       "4                       4   8021.57  2005.392500\n",
       "5                       2   6185.76  3092.880000"
      ]
     },
     "execution_count": 28,
     "metadata": {},
     "output_type": "execute_result"
    }
   ],
   "source": [
    "df4.groupby(['escolaridade']).agg(['count','sum', 'mean'])"
   ]
  },
  {
   "cell_type": "markdown",
   "metadata": {},
   "source": [
    "Para compreendermos melhor o resultado podemos subistituir neste dataframe os valores do campo escolaridade (como no dicionário de dados). Para isso usamos o comando .replace\n",
    "\n",
    "replace = The method replace() returns a copy of the string in which the occurrences of old have been replaced with new, optionally restricting the number of replacements to max. (https://www.tutorialspoint.com/python/string_replace.htm)"
   ]
  },
  {
   "cell_type": "code",
   "execution_count": 34,
   "metadata": {},
   "outputs": [
    {
     "name": "stderr",
     "output_type": "stream",
     "text": [
      "C:\\Users\\patricia\\Anaconda3\\lib\\site-packages\\ipykernel_launcher.py:2: SettingWithCopyWarning: \n",
      "A value is trying to be set on a copy of a slice from a DataFrame.\n",
      "Try using .loc[row_indexer,col_indexer] = value instead\n",
      "\n",
      "See the caveats in the documentation: http://pandas.pydata.org/pandas-docs/stable/indexing.html#indexing-view-versus-copy\n",
      "  \n"
     ]
    }
   ],
   "source": [
    "df4['escolaridade']=df4['escolaridade'].replace({1:'Ensino Médio Completo', 2: 'Graduanda', \n",
    "                                                 3:'Graduada',4:'Pós Graduanda',5:'Pós Graduada'})"
   ]
  },
  {
   "cell_type": "markdown",
   "metadata": {},
   "source": [
    "Ao alterarmos um campo dentro do dataframe criado o Python nos informa que isso não é uma boa prática pois criamos \"novos valores\" dentro de uma \"cópia\" de dataframe."
   ]
  },
  {
   "cell_type": "code",
   "execution_count": 31,
   "metadata": {},
   "outputs": [
    {
     "data": {
      "text/html": [
       "<div>\n",
       "<style scoped>\n",
       "    .dataframe tbody tr th:only-of-type {\n",
       "        vertical-align: middle;\n",
       "    }\n",
       "\n",
       "    .dataframe tbody tr th {\n",
       "        vertical-align: top;\n",
       "    }\n",
       "\n",
       "    .dataframe thead th {\n",
       "        text-align: right;\n",
       "    }\n",
       "</style>\n",
       "<table border=\"1\" class=\"dataframe\">\n",
       "  <thead>\n",
       "    <tr style=\"text-align: right;\">\n",
       "      <th></th>\n",
       "      <th>escolaridade</th>\n",
       "      <th>Renda Mensal</th>\n",
       "    </tr>\n",
       "  </thead>\n",
       "  <tbody>\n",
       "    <tr>\n",
       "      <th>0</th>\n",
       "      <td>Pós Graduanda</td>\n",
       "      <td>3737.52</td>\n",
       "    </tr>\n",
       "    <tr>\n",
       "      <th>1</th>\n",
       "      <td>Graduanda</td>\n",
       "      <td>400.00</td>\n",
       "    </tr>\n",
       "    <tr>\n",
       "      <th>2</th>\n",
       "      <td>Graduada</td>\n",
       "      <td>2366.14</td>\n",
       "    </tr>\n",
       "    <tr>\n",
       "      <th>3</th>\n",
       "      <td>Graduada</td>\n",
       "      <td>2841.29</td>\n",
       "    </tr>\n",
       "    <tr>\n",
       "      <th>4</th>\n",
       "      <td>Pós Graduanda</td>\n",
       "      <td>800.00</td>\n",
       "    </tr>\n",
       "  </tbody>\n",
       "</table>\n",
       "</div>"
      ],
      "text/plain": [
       "    escolaridade  Renda Mensal\n",
       "0  Pós Graduanda       3737.52\n",
       "1      Graduanda        400.00\n",
       "2       Graduada       2366.14\n",
       "3       Graduada       2841.29\n",
       "4  Pós Graduanda        800.00"
      ]
     },
     "execution_count": 31,
     "metadata": {},
     "output_type": "execute_result"
    }
   ],
   "source": [
    "df4.head()"
   ]
  },
  {
   "cell_type": "code",
   "execution_count": 32,
   "metadata": {},
   "outputs": [
    {
     "data": {
      "text/html": [
       "<div>\n",
       "<style scoped>\n",
       "    .dataframe tbody tr th:only-of-type {\n",
       "        vertical-align: middle;\n",
       "    }\n",
       "\n",
       "    .dataframe tbody tr th {\n",
       "        vertical-align: top;\n",
       "    }\n",
       "\n",
       "    .dataframe thead tr th {\n",
       "        text-align: left;\n",
       "    }\n",
       "\n",
       "    .dataframe thead tr:last-of-type th {\n",
       "        text-align: right;\n",
       "    }\n",
       "</style>\n",
       "<table border=\"1\" class=\"dataframe\">\n",
       "  <thead>\n",
       "    <tr>\n",
       "      <th></th>\n",
       "      <th colspan=\"3\" halign=\"left\">Renda Mensal</th>\n",
       "    </tr>\n",
       "    <tr>\n",
       "      <th></th>\n",
       "      <th>count</th>\n",
       "      <th>sum</th>\n",
       "      <th>mean</th>\n",
       "    </tr>\n",
       "    <tr>\n",
       "      <th>escolaridade</th>\n",
       "      <th></th>\n",
       "      <th></th>\n",
       "      <th></th>\n",
       "    </tr>\n",
       "  </thead>\n",
       "  <tbody>\n",
       "    <tr>\n",
       "      <th>Ensino Médio Completo</th>\n",
       "      <td>1</td>\n",
       "      <td>0.00</td>\n",
       "      <td>0.000000</td>\n",
       "    </tr>\n",
       "    <tr>\n",
       "      <th>Graduada</th>\n",
       "      <td>6</td>\n",
       "      <td>16694.98</td>\n",
       "      <td>2782.496667</td>\n",
       "    </tr>\n",
       "    <tr>\n",
       "      <th>Graduanda</th>\n",
       "      <td>2</td>\n",
       "      <td>3907.84</td>\n",
       "      <td>1953.920000</td>\n",
       "    </tr>\n",
       "    <tr>\n",
       "      <th>Pós Graduada</th>\n",
       "      <td>2</td>\n",
       "      <td>6185.76</td>\n",
       "      <td>3092.880000</td>\n",
       "    </tr>\n",
       "    <tr>\n",
       "      <th>Pós Graduanda</th>\n",
       "      <td>4</td>\n",
       "      <td>8021.57</td>\n",
       "      <td>2005.392500</td>\n",
       "    </tr>\n",
       "  </tbody>\n",
       "</table>\n",
       "</div>"
      ],
      "text/plain": [
       "                      Renda Mensal                       \n",
       "                             count       sum         mean\n",
       "escolaridade                                             \n",
       "Ensino Médio Completo            1      0.00     0.000000\n",
       "Graduada                         6  16694.98  2782.496667\n",
       "Graduanda                        2   3907.84  1953.920000\n",
       "Pós Graduada                     2   6185.76  3092.880000\n",
       "Pós Graduanda                    4   8021.57  2005.392500"
      ]
     },
     "execution_count": 32,
     "metadata": {},
     "output_type": "execute_result"
    }
   ],
   "source": [
    "df4.groupby(['escolaridade']).agg(['count','sum', 'mean'])"
   ]
  },
  {
   "cell_type": "markdown",
   "metadata": {},
   "source": [
    "Como podemos saber a idade média das meninas? Para isso usaremos a mediana, que nos dará a idade do meio de todas as meninas. Matematicamente nós deveriamos organizar o dataframe pela idade das meninas usando o sort_value() e ai sim calculariamos o valor da mediana."
   ]
  },
  {
   "cell_type": "code",
   "execution_count": 35,
   "metadata": {},
   "outputs": [
    {
     "data": {
      "text/plain": [
       "Index(['ID', 'estado Origem', 'IDADE', 'escolaridade',\n",
       "       'Trabalha como Programadora', 'Renda Mensal'],\n",
       "      dtype='object')"
      ]
     },
     "execution_count": 35,
     "metadata": {},
     "output_type": "execute_result"
    }
   ],
   "source": [
    "df.columns"
   ]
  },
  {
   "cell_type": "code",
   "execution_count": 38,
   "metadata": {},
   "outputs": [
    {
     "data": {
      "text/plain": [
       "13    16\n",
       "3     23\n",
       "12    23\n",
       "7     24\n",
       "1     25\n",
       "11    25\n",
       "9     27\n",
       "8     29\n",
       "10    30\n",
       "4     31\n",
       "2     34\n",
       "5     34\n",
       "0     36\n",
       "14    36\n",
       "6     39\n",
       "Name: IDADE, dtype: int64"
      ]
     },
     "execution_count": 38,
     "metadata": {},
     "output_type": "execute_result"
    }
   ],
   "source": [
    "df['IDADE'].sort_values()"
   ]
  },
  {
   "cell_type": "markdown",
   "metadata": {},
   "source": [
    "Realizando o cálculo na mão nós teríamos a mediana em 29. Porém, podemos fazer isso automaticamente usando o comando median(), conforme abaixo."
   ]
  },
  {
   "cell_type": "code",
   "execution_count": 39,
   "metadata": {},
   "outputs": [
    {
     "data": {
      "text/plain": [
       "29.0"
      ]
     },
     "execution_count": 39,
     "metadata": {},
     "output_type": "execute_result"
    }
   ],
   "source": [
    "df['IDADE'].median()"
   ]
  },
  {
   "cell_type": "markdown",
   "metadata": {},
   "source": [
    "A mediana também é interessante quando trabalhamos com dados qualitativos!\n",
    "Como entendemos qual a tendência central da Escolaridade, por exemplo? \n",
    "Para respondermos essa pergunta precisamos:\n",
    "1º passo) Contar a frequência de cada uma das classes;\n",
    "2º passo) Calcular a frequência acumulada;\n",
    "3º passo) Selecionar o valor mediano dos dados.\n",
    "\n",
    "O desafio é mostrar tudo isso em uma tabela de forma clara, já que não temos isso aqui... \n",
    "\n",
    "Como fizemos?"
   ]
  },
  {
   "cell_type": "code",
   "execution_count": 44,
   "metadata": {},
   "outputs": [
    {
     "data": {
      "text/html": [
       "<div>\n",
       "<style scoped>\n",
       "    .dataframe tbody tr th:only-of-type {\n",
       "        vertical-align: middle;\n",
       "    }\n",
       "\n",
       "    .dataframe tbody tr th {\n",
       "        vertical-align: top;\n",
       "    }\n",
       "\n",
       "    .dataframe thead th {\n",
       "        text-align: right;\n",
       "    }\n",
       "</style>\n",
       "<table border=\"1\" class=\"dataframe\">\n",
       "  <thead>\n",
       "    <tr style=\"text-align: right;\">\n",
       "      <th></th>\n",
       "      <th>Escolaridade</th>\n",
       "      <th>Frequencia</th>\n",
       "      <th>Frequencia Acumulada</th>\n",
       "    </tr>\n",
       "  </thead>\n",
       "  <tbody>\n",
       "    <tr>\n",
       "      <th>0</th>\n",
       "      <td>Ensino Médio Completo</td>\n",
       "      <td>1</td>\n",
       "      <td>1</td>\n",
       "    </tr>\n",
       "    <tr>\n",
       "      <th>1</th>\n",
       "      <td>Graduanda</td>\n",
       "      <td>2</td>\n",
       "      <td>3</td>\n",
       "    </tr>\n",
       "    <tr>\n",
       "      <th>2</th>\n",
       "      <td>Graduada</td>\n",
       "      <td>6</td>\n",
       "      <td>9</td>\n",
       "    </tr>\n",
       "    <tr>\n",
       "      <th>3</th>\n",
       "      <td>Pós Graduanda</td>\n",
       "      <td>4</td>\n",
       "      <td>13</td>\n",
       "    </tr>\n",
       "    <tr>\n",
       "      <th>4</th>\n",
       "      <td>Pós Graduada</td>\n",
       "      <td>2</td>\n",
       "      <td>15</td>\n",
       "    </tr>\n",
       "  </tbody>\n",
       "</table>\n",
       "</div>"
      ],
      "text/plain": [
       "            Escolaridade  Frequencia  Frequencia Acumulada\n",
       "0  Ensino Médio Completo           1                     1\n",
       "1              Graduanda           2                     3\n",
       "2               Graduada           6                     9\n",
       "3          Pós Graduanda           4                    13\n",
       "4           Pós Graduada           2                    15"
      ]
     },
     "execution_count": 44,
     "metadata": {},
     "output_type": "execute_result"
    }
   ],
   "source": [
    "frequencia = df['escolaridade'].value_counts().sort_index()\n",
    "acumulada = df['escolaridade'].value_counts().sort_index().cumsum()\n",
    "df_freq_acu = pd.DataFrame (list(zip(list(frequencia.index),list(frequencia.values),list(acumulada.values))),\n",
    "                                 columns = ['Escolaridade','Frequencia','Frequencia Acumulada'])\n",
    "df_freq_acu['Escolaridade'] = df_freq_acu['Escolaridade'].replace({1:'Ensino Médio Completo', 2: 'Graduanda', 3:'Graduada',\n",
    "                                                4:'Pós Graduanda',5:'Pós Graduada'})\n",
    "df_freq_acu"
   ]
  },
  {
   "cell_type": "markdown",
   "metadata": {},
   "source": [
    "usamos o zip, como um zipper, juntando os dados de uma lista e outra para criarmos um dataframe. \n",
    "\n",
    "The zip() function take iterables (can be zero or more), makes iterator that aggregates elements based on the iterables passed, and returns an iterator of tuples.  (https://docs.python.org/3.3/library/functions.html#zip)"
   ]
  }
 ],
 "metadata": {
  "kernelspec": {
   "display_name": "Python 3",
   "language": "python",
   "name": "python3"
  },
  "language_info": {
   "codemirror_mode": {
    "name": "ipython",
    "version": 3
   },
   "file_extension": ".py",
   "mimetype": "text/x-python",
   "name": "python",
   "nbconvert_exporter": "python",
   "pygments_lexer": "ipython3",
   "version": "3.6.5"
  }
 },
 "nbformat": 4,
 "nbformat_minor": 2
}
