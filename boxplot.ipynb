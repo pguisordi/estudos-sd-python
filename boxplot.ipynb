{
 "cells": [
  {
   "cell_type": "code",
   "execution_count": 1,
   "metadata": {},
   "outputs": [],
   "source": [
    "#importando bibliotecas para \n",
    "import pandas as pd\n",
    "import numpy as np\n",
    "import matplotlib.pyplot as plt\n",
    "from matplotlib import cm\n",
    "import seaborn as sns\n",
    "import scipy\n",
    "import warnings\n",
    "warnings.filterwarnings('ignore')"
   ]
  },
  {
   "cell_type": "code",
   "execution_count": 9,
   "metadata": {},
   "outputs": [],
   "source": [
    "imoveis = pd.read_csv('imoveis_limpo',sep=';', encoding='utf-8')"
   ]
  },
  {
   "cell_type": "code",
   "execution_count": 10,
   "metadata": {},
   "outputs": [],
   "source": [
    "imoveis.drop(columns = ['Unnamed: 0', 'municipio','endereco','bairro'], inplace = True)"
   ]
  },
  {
   "cell_type": "code",
   "execution_count": 11,
   "metadata": {},
   "outputs": [
    {
     "data": {
      "text/html": [
       "<div>\n",
       "<style scoped>\n",
       "    .dataframe tbody tr th:only-of-type {\n",
       "        vertical-align: middle;\n",
       "    }\n",
       "\n",
       "    .dataframe tbody tr th {\n",
       "        vertical-align: top;\n",
       "    }\n",
       "\n",
       "    .dataframe thead th {\n",
       "        text-align: right;\n",
       "    }\n",
       "</style>\n",
       "<table border=\"1\" class=\"dataframe\">\n",
       "  <thead>\n",
       "    <tr style=\"text-align: right;\">\n",
       "      <th></th>\n",
       "      <th>classe</th>\n",
       "      <th>rip</th>\n",
       "      <th>uf</th>\n",
       "      <th>conceituacao</th>\n",
       "      <th>tipo_imovel</th>\n",
       "      <th>situacao_utilizacao</th>\n",
       "      <th>proprietario_oficial</th>\n",
       "      <th>regime_utilizacao</th>\n",
       "    </tr>\n",
       "  </thead>\n",
       "  <tbody>\n",
       "    <tr>\n",
       "      <th>0</th>\n",
       "      <td>dominial</td>\n",
       "      <td>401010051396</td>\n",
       "      <td>pa</td>\n",
       "      <td>marginal de rio</td>\n",
       "      <td>terreno</td>\n",
       "      <td>em uso</td>\n",
       "      <td>uniao (adm. pub. fed. direta)</td>\n",
       "      <td>tau                                           ...</td>\n",
       "    </tr>\n",
       "    <tr>\n",
       "      <th>1</th>\n",
       "      <td>dominial</td>\n",
       "      <td>401010013460</td>\n",
       "      <td>pa</td>\n",
       "      <td>marginal de rio</td>\n",
       "      <td>terreno</td>\n",
       "      <td>em uso</td>\n",
       "      <td>uniao (adm. pub. fed. direta)</td>\n",
       "      <td>tau                                           ...</td>\n",
       "    </tr>\n",
       "    <tr>\n",
       "      <th>2</th>\n",
       "      <td>dominial</td>\n",
       "      <td>401010044772</td>\n",
       "      <td>pa</td>\n",
       "      <td>marginal de rio</td>\n",
       "      <td>terreno</td>\n",
       "      <td>em uso</td>\n",
       "      <td>uniao (adm. pub. fed. direta)</td>\n",
       "      <td>tau                                           ...</td>\n",
       "    </tr>\n",
       "    <tr>\n",
       "      <th>3</th>\n",
       "      <td>dominial</td>\n",
       "      <td>401010055464</td>\n",
       "      <td>pa</td>\n",
       "      <td>marginal de rio</td>\n",
       "      <td>terreno</td>\n",
       "      <td>em uso</td>\n",
       "      <td>uniao (adm. pub. fed. direta)</td>\n",
       "      <td>tau                                           ...</td>\n",
       "    </tr>\n",
       "    <tr>\n",
       "      <th>4</th>\n",
       "      <td>dominial</td>\n",
       "      <td>401010036400</td>\n",
       "      <td>pa</td>\n",
       "      <td>marginal de rio</td>\n",
       "      <td>terreno</td>\n",
       "      <td>em uso</td>\n",
       "      <td>uniao (adm. pub. fed. direta)</td>\n",
       "      <td>tau                                           ...</td>\n",
       "    </tr>\n",
       "  </tbody>\n",
       "</table>\n",
       "</div>"
      ],
      "text/plain": [
       "     classe           rip  uf                    conceituacao tipo_imovel  \\\n",
       "0  dominial  401010051396  pa  marginal de rio                    terreno   \n",
       "1  dominial  401010013460  pa  marginal de rio                    terreno   \n",
       "2  dominial  401010044772  pa  marginal de rio                    terreno   \n",
       "3  dominial  401010055464  pa  marginal de rio                    terreno   \n",
       "4  dominial  401010036400  pa  marginal de rio                    terreno   \n",
       "\n",
       "  situacao_utilizacao           proprietario_oficial  \\\n",
       "0              em uso  uniao (adm. pub. fed. direta)   \n",
       "1              em uso  uniao (adm. pub. fed. direta)   \n",
       "2              em uso  uniao (adm. pub. fed. direta)   \n",
       "3              em uso  uniao (adm. pub. fed. direta)   \n",
       "4              em uso  uniao (adm. pub. fed. direta)   \n",
       "\n",
       "                                   regime_utilizacao  \n",
       "0  tau                                           ...  \n",
       "1  tau                                           ...  \n",
       "2  tau                                           ...  \n",
       "3  tau                                           ...  \n",
       "4  tau                                           ...  "
      ]
     },
     "execution_count": 11,
     "metadata": {},
     "output_type": "execute_result"
    }
   ],
   "source": [
    "imoveis.head()"
   ]
  },
  {
   "cell_type": "code",
   "execution_count": 13,
   "metadata": {},
   "outputs": [],
   "source": [
    "df_classes = imoveis[['classe','tipo_imovel']]"
   ]
  },
  {
   "cell_type": "code",
   "execution_count": 14,
   "metadata": {},
   "outputs": [
    {
     "data": {
      "text/html": [
       "<div>\n",
       "<style scoped>\n",
       "    .dataframe tbody tr th:only-of-type {\n",
       "        vertical-align: middle;\n",
       "    }\n",
       "\n",
       "    .dataframe tbody tr th {\n",
       "        vertical-align: top;\n",
       "    }\n",
       "\n",
       "    .dataframe thead th {\n",
       "        text-align: right;\n",
       "    }\n",
       "</style>\n",
       "<table border=\"1\" class=\"dataframe\">\n",
       "  <thead>\n",
       "    <tr style=\"text-align: right;\">\n",
       "      <th></th>\n",
       "      <th>classe</th>\n",
       "      <th>tipo_imovel</th>\n",
       "    </tr>\n",
       "  </thead>\n",
       "  <tbody>\n",
       "    <tr>\n",
       "      <th>0</th>\n",
       "      <td>dominial</td>\n",
       "      <td>terreno</td>\n",
       "    </tr>\n",
       "    <tr>\n",
       "      <th>1</th>\n",
       "      <td>dominial</td>\n",
       "      <td>terreno</td>\n",
       "    </tr>\n",
       "    <tr>\n",
       "      <th>2</th>\n",
       "      <td>dominial</td>\n",
       "      <td>terreno</td>\n",
       "    </tr>\n",
       "    <tr>\n",
       "      <th>3</th>\n",
       "      <td>dominial</td>\n",
       "      <td>terreno</td>\n",
       "    </tr>\n",
       "    <tr>\n",
       "      <th>4</th>\n",
       "      <td>dominial</td>\n",
       "      <td>terreno</td>\n",
       "    </tr>\n",
       "  </tbody>\n",
       "</table>\n",
       "</div>"
      ],
      "text/plain": [
       "     classe tipo_imovel\n",
       "0  dominial     terreno\n",
       "1  dominial     terreno\n",
       "2  dominial     terreno\n",
       "3  dominial     terreno\n",
       "4  dominial     terreno"
      ]
     },
     "execution_count": 14,
     "metadata": {},
     "output_type": "execute_result"
    }
   ],
   "source": [
    "df_classes.head()"
   ]
  },
  {
   "cell_type": "code",
   "execution_count": 15,
   "metadata": {},
   "outputs": [
    {
     "data": {
      "text/plain": [
       "array(['terreno', 'casa', 'fazenda', 'universidade',\n",
       "       'autarquia / fundacao', 'escola', 'delegacia', 'apartamento',\n",
       "       'residencia', 'edificio / predio', 'loja', 'galpao', 'gleba',\n",
       "       'clube', 'quartel', 'embaixada', 'reserva', 'alfandega', 'parque',\n",
       "       'outros', 'estacionamento', 'laboratorio', 'ilha (ilhota)',\n",
       "       'hospital', 'aeroporto', 'sala', 'usina', 'farol (farolete)',\n",
       "       'acude', 'armazem', 'observatorio', 'estacao', 'base', 'museu',\n",
       "       'porto', 'aerodromo', 'faculdade', 'complexo', 'represa', 'teatro',\n",
       "       \"espelho d'agua\", 'posto de fiscalizacao', 'conjunto', 'forte',\n",
       "       'hotel', 'patio ferroviario', 'estadio', 'palacio', 'biblioteca',\n",
       "       'cemiterio', 'subestacoes de transm. e distrib. energ. eletrica',\n",
       "       'fabrica', 'estaleiro', 'presidio', 'via ferrea', 'convento',\n",
       "       'pontes', 'consulado', 'passarelas e viadutos', 'oficinas'],\n",
       "      dtype=object)"
      ]
     },
     "execution_count": 15,
     "metadata": {},
     "output_type": "execute_result"
    }
   ],
   "source": [
    "df_classes.tipo_imovel.unique()"
   ]
  },
  {
   "cell_type": "code",
   "execution_count": 16,
   "metadata": {},
   "outputs": [
    {
     "data": {
      "text/plain": [
       "array(['dominial', 'imovel funcional', 'uso especial'], dtype=object)"
      ]
     },
     "execution_count": 16,
     "metadata": {},
     "output_type": "execute_result"
    }
   ],
   "source": [
    "df_classes.classe.unique()"
   ]
  },
  {
   "cell_type": "code",
   "execution_count": 17,
   "metadata": {},
   "outputs": [
    {
     "data": {
      "text/plain": [
       "dominial            641240\n",
       "uso especial         39624\n",
       "imovel funcional      7441\n",
       "Name: classe, dtype: int64"
      ]
     },
     "execution_count": 17,
     "metadata": {},
     "output_type": "execute_result"
    }
   ],
   "source": [
    "df_classes.classe.value_counts()"
   ]
  },
  {
   "cell_type": "code",
   "execution_count": 18,
   "metadata": {},
   "outputs": [],
   "source": [
    "data = {'classe': ['dominial','uso especial','imovel funcional'],\n",
    "        'totais': [641240, 39624,7441]}\n",
    "df = pd.DataFrame(data, columns=['classe','totais'])"
   ]
  },
  {
   "cell_type": "code",
   "execution_count": 19,
   "metadata": {},
   "outputs": [
    {
     "data": {
      "text/html": [
       "<div>\n",
       "<style scoped>\n",
       "    .dataframe tbody tr th:only-of-type {\n",
       "        vertical-align: middle;\n",
       "    }\n",
       "\n",
       "    .dataframe tbody tr th {\n",
       "        vertical-align: top;\n",
       "    }\n",
       "\n",
       "    .dataframe thead th {\n",
       "        text-align: right;\n",
       "    }\n",
       "</style>\n",
       "<table border=\"1\" class=\"dataframe\">\n",
       "  <thead>\n",
       "    <tr style=\"text-align: right;\">\n",
       "      <th></th>\n",
       "      <th>classe</th>\n",
       "      <th>totais</th>\n",
       "    </tr>\n",
       "  </thead>\n",
       "  <tbody>\n",
       "    <tr>\n",
       "      <th>0</th>\n",
       "      <td>dominial</td>\n",
       "      <td>641240</td>\n",
       "    </tr>\n",
       "    <tr>\n",
       "      <th>1</th>\n",
       "      <td>uso especial</td>\n",
       "      <td>39624</td>\n",
       "    </tr>\n",
       "    <tr>\n",
       "      <th>2</th>\n",
       "      <td>imovel funcional</td>\n",
       "      <td>7441</td>\n",
       "    </tr>\n",
       "  </tbody>\n",
       "</table>\n",
       "</div>"
      ],
      "text/plain": [
       "             classe  totais\n",
       "0          dominial  641240\n",
       "1      uso especial   39624\n",
       "2  imovel funcional    7441"
      ]
     },
     "execution_count": 19,
     "metadata": {},
     "output_type": "execute_result"
    }
   ],
   "source": [
    "df.head()"
   ]
  },
  {
   "cell_type": "code",
   "execution_count": 20,
   "metadata": {},
   "outputs": [
    {
     "data": {
      "image/png": "[encoded data removed]",
      "text/plain": [
       "<Figure size 432x288 with 1 Axes>"
      ]
     },
     "metadata": {},
     "output_type": "display_data"
    }
   ],
   "source": [
    "box = df.boxplot();"
   ]
  },
  {
   "cell_type": "code",
   "execution_count": 21,
   "metadata": {},
   "outputs": [
    {
     "data": {
      "text/plain": [
       "totais    39624.0\n",
       "dtype: float64"
      ]
     },
     "execution_count": 21,
     "metadata": {},
     "output_type": "execute_result"
    }
   ],
   "source": [
    "df.median()"
   ]
  },
  {
   "cell_type": "code",
   "execution_count": 22,
   "metadata": {},
   "outputs": [
    {
     "data": {
      "text/plain": [
       "totais    229435.0\n",
       "dtype: float64"
      ]
     },
     "execution_count": 22,
     "metadata": {},
     "output_type": "execute_result"
    }
   ],
   "source": [
    "df.mean()"
   ]
  },
  {
   "cell_type": "code",
   "execution_count": 23,
   "metadata": {},
   "outputs": [
    {
     "data": {
      "text/html": [
       "<div>\n",
       "<style scoped>\n",
       "    .dataframe tbody tr th:only-of-type {\n",
       "        vertical-align: middle;\n",
       "    }\n",
       "\n",
       "    .dataframe tbody tr th {\n",
       "        vertical-align: top;\n",
       "    }\n",
       "\n",
       "    .dataframe thead th {\n",
       "        text-align: right;\n",
       "    }\n",
       "</style>\n",
       "<table border=\"1\" class=\"dataframe\">\n",
       "  <thead>\n",
       "    <tr style=\"text-align: right;\">\n",
       "      <th></th>\n",
       "      <th>totais</th>\n",
       "    </tr>\n",
       "  </thead>\n",
       "  <tbody>\n",
       "    <tr>\n",
       "      <th>count</th>\n",
       "      <td>3.000000</td>\n",
       "    </tr>\n",
       "    <tr>\n",
       "      <th>mean</th>\n",
       "      <td>229435.000000</td>\n",
       "    </tr>\n",
       "    <tr>\n",
       "      <th>std</th>\n",
       "      <td>356996.435404</td>\n",
       "    </tr>\n",
       "    <tr>\n",
       "      <th>min</th>\n",
       "      <td>7441.000000</td>\n",
       "    </tr>\n",
       "    <tr>\n",
       "      <th>25%</th>\n",
       "      <td>23532.500000</td>\n",
       "    </tr>\n",
       "    <tr>\n",
       "      <th>50%</th>\n",
       "      <td>39624.000000</td>\n",
       "    </tr>\n",
       "    <tr>\n",
       "      <th>75%</th>\n",
       "      <td>340432.000000</td>\n",
       "    </tr>\n",
       "    <tr>\n",
       "      <th>max</th>\n",
       "      <td>641240.000000</td>\n",
       "    </tr>\n",
       "  </tbody>\n",
       "</table>\n",
       "</div>"
      ],
      "text/plain": [
       "              totais\n",
       "count       3.000000\n",
       "mean   229435.000000\n",
       "std    356996.435404\n",
       "min      7441.000000\n",
       "25%     23532.500000\n",
       "50%     39624.000000\n",
       "75%    340432.000000\n",
       "max    641240.000000"
      ]
     },
     "execution_count": 23,
     "metadata": {},
     "output_type": "execute_result"
    }
   ],
   "source": [
    "df.describe()"
   ]
  },
  {
   "cell_type": "code",
   "execution_count": 26,
   "metadata": {},
   "outputs": [
    {
     "data": {
      "image/png": "[encoded data removed]",
      "text/plain": [
       "<Figure size 432x288 with 1 Axes>"
      ]
     },
     "metadata": {},
     "output_type": "display_data"
    }
   ],
   "source": [
    "df.plot.hist();"
   ]
  },
  {
   "cell_type": "code",
   "execution_count": 29,
   "metadata": {},
   "outputs": [],
   "source": [
    "df2 = df_classes['tipo_imovel']"
   ]
  },
  {
   "cell_type": "code",
   "execution_count": 31,
   "metadata": {},
   "outputs": [
    {
     "data": {
      "text/plain": [
       "0    terreno\n",
       "1    terreno\n",
       "2    terreno\n",
       "3    terreno\n",
       "4    terreno\n",
       "Name: tipo_imovel, dtype: object"
      ]
     },
     "execution_count": 31,
     "metadata": {},
     "output_type": "execute_result"
    }
   ],
   "source": [
    "df2.head()"
   ]
  },
  {
   "cell_type": "code",
   "execution_count": 35,
   "metadata": {},
   "outputs": [
    {
     "data": {
      "text/plain": [
       "terreno                                              650900\n",
       "apartamento                                            9406\n",
       "edificio / predio                                      5119\n",
       "casa                                                   3923\n",
       "fazenda                                                3598\n",
       "aeroporto                                              2387\n",
       "residencia                                             1943\n",
       "gleba                                                  1205\n",
       "outros                                                 1039\n",
       "sala                                                    919\n",
       "reserva                                                 829\n",
       "quartel                                                 731\n",
       "escola                                                  675\n",
       "universidade                                            585\n",
       "hospital                                                508\n",
       "represa                                                 478\n",
       "autarquia / fundacao                                    471\n",
       "farol (farolete)                                        344\n",
       "galpao                                                  326\n",
       "estacao                                                 238\n",
       "armazem                                                 209\n",
       "estacionamento                                          200\n",
       "conjunto                                                182\n",
       "espelho d'agua                                          178\n",
       "complexo                                                170\n",
       "parque                                                  167\n",
       "loja                                                    164\n",
       "ilha (ilhota)                                           145\n",
       "base                                                    145\n",
       "delegacia                                               130\n",
       "patio ferroviario                                       119\n",
       "acude                                                   108\n",
       "faculdade                                               101\n",
       "museu                                                    78\n",
       "porto                                                    63\n",
       "embaixada                                                53\n",
       "clube                                                    51\n",
       "laboratorio                                              51\n",
       "aerodromo                                                50\n",
       "forte                                                    47\n",
       "observatorio                                             42\n",
       "hotel                                                    35\n",
       "alfandega                                                31\n",
       "posto de fiscalizacao                                    25\n",
       "teatro                                                   22\n",
       "via ferrea                                               13\n",
       "biblioteca                                               13\n",
       "consulado                                                13\n",
       "cemiterio                                                12\n",
       "fabrica                                                  10\n",
       "usina                                                    10\n",
       "estadio                                                   9\n",
       "presidio                                                  8\n",
       "estaleiro                                                 7\n",
       "palacio                                                   6\n",
       "passarelas e viadutos                                     4\n",
       "oficinas                                                  4\n",
       "subestacoes de transm. e distrib. energ. eletrica         3\n",
       "convento                                                  2\n",
       "pontes                                                    1\n",
       "Name: tipo_imovel, dtype: int64"
      ]
     },
     "execution_count": 35,
     "metadata": {},
     "output_type": "execute_result"
    }
   ],
   "source": [
    "df2.value_counts()"
   ]
  },
  {
   "cell_type": "code",
   "execution_count": null,
   "metadata": {},
   "outputs": [],
   "source": []
  }
 ],
 "metadata": {
  "kernelspec": {
   "display_name": "Python 3",
   "language": "python",
   "name": "python3"
  },
  "language_info": {
   "codemirror_mode": {
    "name": "ipython",
    "version": 3
   },
   "file_extension": ".py",
   "mimetype": "text/x-python",
   "name": "python",
   "nbconvert_exporter": "python",
   "pygments_lexer": "ipython3",
   "version": "3.6.5"
  }
 },
 "nbformat": 4,
 "nbformat_minor": 2
}
